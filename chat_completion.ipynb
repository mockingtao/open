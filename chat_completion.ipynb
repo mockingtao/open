{
 "cells": [
  {
   "cell_type": "markdown",
   "id": "3eb65f73",
   "metadata": {},
   "source": [
    "使用 OpenAI API，您可以使用 gpt-3.5-turbo 构建自己的应用程序，以完成以下任务:\n",
    "\n",
    "- 起草一封电子邮件或其他文件\n",
    "- 编写 Python 代码\n",
    "- 回答有关一组文档的问题\n",
    "- 创建对话代理\n",
    "- 给你的软件一个自然语言的界面\n",
    "- 辅导一系列学科\n",
    "- 翻译语言\n",
    "- 模拟电子游戏中的角色等等"
   ]
  },
  {
   "cell_type": "markdown",
   "id": "69c2360e",
   "metadata": {},
   "source": [
    "# Chat completion"
   ]
  },
  {
   "cell_type": "code",
   "execution_count": 1,
   "metadata": {},
   "outputs": [],
   "source": [
    "import openai\n",
    "import os\n",
    "openai.api_key = os.getenv(\"OPENAI_API_KEY\")\n"
   ]
  },
  {
   "cell_type": "code",
   "execution_count": 13,
   "id": "cad4a974",
   "metadata": {
    "ExecuteTime": {
     "end_time": "2023-03-07T11:27:46.243298Z",
     "start_time": "2023-03-07T11:27:43.883105Z"
    }
   },
   "outputs": [
    {
     "data": {
      "text/plain": [
       "<OpenAIObject chat.completion id=chatcmpl-6rPlolv5UtjCOhNtZGCwqz1eozle4 at 0x7fa0b842cc70> JSON: {\n",
       "  \"choices\": [\n",
       "    {\n",
       "      \"finish_reason\": \"stop\",\n",
       "      \"index\": 0,\n",
       "      \"message\": {\n",
       "        \"content\": \"The 2020 World Series was won by the Los Angeles Dodgers. They defeated the Tampa Bay Rays in six games. It was played at Globe Life Field in Arlington, Texas.\",\n",
       "        \"role\": \"assistant\"\n",
       "      }\n",
       "    }\n",
       "  ],\n",
       "  \"created\": 1678188464,\n",
       "  \"id\": \"chatcmpl-6rPlolv5UtjCOhNtZGCwqz1eozle4\",\n",
       "  \"model\": \"gpt-3.5-turbo-0301\",\n",
       "  \"object\": \"chat.completion\",\n",
       "  \"usage\": {\n",
       "    \"completion_tokens\": 38,\n",
       "    \"prompt_tokens\": 38,\n",
       "    \"total_tokens\": 76\n",
       "  }\n",
       "}"
      ]
     },
     "execution_count": 13,
     "metadata": {},
     "output_type": "execute_result"
    }
   ],
   "source": [
    "# Note: you need to be using OpenAI Python v0.27.0 for the code below to work\n",
    "import openai\n",
    "import os\n",
    "openai.api_key = os.getenv(\"OPENAI_API_KEY\")\n",
    "\n",
    "\n",
    "response = openai.ChatCompletion.create(\n",
    "  model=\"gpt-3.5-turbo\",\n",
    "  messages=[\n",
    "        {\"role\": \"system\", \"content\": \"You are a helpful assistant.\"},\n",
    "        {\"role\": \"user\", \"content\": \"Who won the world series in 2020?\"},\n",
    "#         {\"role\": \"assistant\", \"content\": \"The Los Angeles Dodgers won the World Series in 2020.\"},\n",
    "        {\"role\": \"user\", \"content\": \"Where was it played?\"}\n",
    "    ]\n",
    ")\n",
    "\n",
    "\n",
    "response"
   ]
  },
  {
   "cell_type": "markdown",
   "id": "4a8a1153",
   "metadata": {},
   "source": [
    "通常，会话首先使用系统消息进行格式化，然后是交替使用的用户消息和助理消息。\n",
    "\n",
    "系统消息帮助设置助理的行为。在上面的例子中，助理被告知“你是一个乐于助人的助手。”\n",
    "\n",
    "用户消息帮助指导助手。它们可以由应用程序的最终用户生成，也可以由开发人员设置为指令。\n",
    "\n",
    "助理消息帮助存储先前的响应。它们也可以由开发人员编写，以帮助提供所需行为的示例。"
   ]
  },
  {
   "cell_type": "code",
   "execution_count": 12,
   "id": "88bc28f8",
   "metadata": {
    "ExecuteTime": {
     "end_time": "2023-03-07T11:27:38.191852Z",
     "start_time": "2023-03-07T11:27:38.187855Z"
    }
   },
   "outputs": [
    {
     "data": {
      "text/plain": [
       "'The Los Angeles Dodgers won the 2020 World Series. The games were played in a bubble format at a neutral site, Globe Life Field in Arlington, Texas, due to the COVID-19 pandemic.'"
      ]
     },
     "execution_count": 12,
     "metadata": {},
     "output_type": "execute_result"
    }
   ],
   "source": [
    "response['choices'][0]['message']['content']"
   ]
  },
  {
   "cell_type": "markdown",
   "id": "e7fe7bcd",
   "metadata": {},
   "source": [
    "输入和输出标记都计入这些数量。例如，如果您的 API 调用在消息输入中使用了10个tokens，并且在消息输出中收到了20个tokens，那么您将收到30个tokens的费用。\n",
    "\n",
    "要查看一个文本字符串中有多少个令牌而不进行 API 调用，请使用 OpenAI 的 tiktoken Python 库。示例代码可以在 OpenAI 烹饪指南中找到，该指南介绍了如何使用 tiktoken 计算令牌数量。\n",
    "\n",
    "传递给 API 的每条消息都使用内容、角色和其他字段中的令牌数，以及一些用于后台格式化的额外令牌。这种情况在未来可能会略有改变。\n",
    "\n",
    "如果一个对话有太多的令牌以至于无法满足模型的最大限制(例如，gpt-3.5-turbo 的令牌超过4096个) ，你就必须截断、省略或者缩小文本直到它适合。请注意，如果从消息输入中删除了一条消息，模型将失去对它的所有知识。\n",
    "\n",
    "还要注意的是，长时间的谈话更有可能收到不完整的回复。例如，长度为4090个令牌的 gpt-3.5-turbo 对话在只有6个令牌之后就会停止响应。"
   ]
  },
  {
   "cell_type": "markdown",
   "id": "afab5e6e",
   "metadata": {},
   "source": [
    "指导模型的最佳实践可能会随着模型版本的变化而变化。以下建议适用于 gpt-3.5-turbo-0301，可能不适用于未来的型号。\n",
    "\n",
    "一般来说，gpt-3.5-turbo-0301并不十分重视系统消息，因此重要的指令通常最好放在用户消息中。\n",
    "\n",
    "如果模型没有生成您想要的输出，那么您可以随意迭代和尝试潜在的改进。你可以试试这样的方法:\n",
    "\n",
    "- 让你的指令更加明确\n",
    "- 指定您想要的答案格式\n",
    "- 让模型一步一步地思考，或者在决定答案之前讨论利弊"
   ]
  },
  {
   "cell_type": "markdown",
   "id": "49f0518a",
   "metadata": {},
   "source": [
    "除了系统消息之外，温度和最大令牌是开发人员必须影响聊天模型输出的许多选项中的两个。对于温度，像0.8这样的较高值会使输出更加随机，而像0.2这样的较低值会使输出更加集中和确定。在 max 标记的情况下，如果您想将响应限制为某个长度，可以将 max 标记设置为任意数字。这可能会导致一些问题，例如，如果将 max 令牌值设置为5，因为输出将被截断，而且结果对用户没有意义。"
   ]
  },
  {
   "cell_type": "markdown",
   "id": "52f3a807",
   "metadata": {},
   "source": [
    "由于 gpt-3.5-turbo 的性能与 text-davinci-003相似，但是每个令牌的价格为10% ，因此我们建议大多数情况下使用 gpt-3.5-turbo。\n"
   ]
  },
  {
   "cell_type": "code",
   "execution_count": 30,
   "id": "df3bb5a2",
   "metadata": {
    "ExecuteTime": {
     "end_time": "2023-03-07T11:56:15.732205Z",
     "start_time": "2023-03-07T11:56:13.592180Z"
    }
   },
   "outputs": [
    {
     "data": {
      "text/plain": [
       "<OpenAIObject chat.completion id=chatcmpl-6rQDOAkeAX7MxpGCPVtSbHox7I2un at 0x7fa0a0da80e0> JSON: {\n",
       "  \"choices\": [\n",
       "    {\n",
       "      \"finish_reason\": \"stop\",\n",
       "      \"index\": 0,\n",
       "      \"message\": {\n",
       "        \"content\": \"\\n\\nPour de nombreux d\\u00e9veloppeurs, la transition est aussi simple que la r\\u00e9\\u00e9criture et la retestation d'une invite.\",\n",
       "        \"role\": \"assistant\"\n",
       "      }\n",
       "    }\n",
       "  ],\n",
       "  \"created\": 1678190174,\n",
       "  \"id\": \"chatcmpl-6rQDOAkeAX7MxpGCPVtSbHox7I2un\",\n",
       "  \"model\": \"gpt-3.5-turbo-0301\",\n",
       "  \"object\": \"chat.completion\",\n",
       "  \"usage\": {\n",
       "    \"completion_tokens\": 29,\n",
       "    \"prompt_tokens\": 36,\n",
       "    \"total_tokens\": 65\n",
       "  }\n",
       "}"
      ]
     },
     "execution_count": 30,
     "metadata": {},
     "output_type": "execute_result"
    }
   ],
   "source": [
    "\n",
    "response2 = openai.ChatCompletion.create(\n",
    "    model=\"gpt-3.5-turbo\",\n",
    "    messages=[\n",
    "#   {'role': 'system', 'content': 'You are a helpful assistant that translates English to Frensh.'},\n",
    "  {'role': 'user', 'content': 'Translate the following English text to Frensh: \"{For many developers, the transition is as simple as rewriting and retesting a prompt.}\"'}\n",
    "]\n",
    ")\n",
    "\n",
    "\n",
    "response2"
   ]
  },
  {
   "cell_type": "code",
   "execution_count": null,
   "id": "1d237e31",
   "metadata": {},
   "outputs": [],
   "source": []
  },
  {
   "cell_type": "markdown",
   "id": "3f98539d",
   "metadata": {},
   "source": [
    "# Code completion"
   ]
  },
  {
   "cell_type": "markdown",
   "id": "f37d5cab",
   "metadata": {},
   "source": [
    "你可使用Codex执行多项任务，包括:\n",
    "\n",
    "将注释转换为代码\n",
    "\n",
    "在上下文中完成下一行或函数\n",
    "\n",
    "为您带来知识，例如为应用程序查找有用的库或 API 调用\n",
    "\n",
    "添加评论\n",
    "\n",
    "为提高效率而重写代码"
   ]
  },
  {
   "cell_type": "code",
   "execution_count": null,
   "id": "5e441e2b",
   "metadata": {},
   "outputs": [],
   "source": []
  },
  {
   "cell_type": "code",
   "execution_count": null,
   "id": "5ce8b385",
   "metadata": {},
   "outputs": [],
   "source": []
  },
  {
   "cell_type": "code",
   "execution_count": null,
   "id": "97218904",
   "metadata": {},
   "outputs": [],
   "source": []
  },
  {
   "cell_type": "code",
   "execution_count": null,
   "id": "4af2e8f7",
   "metadata": {},
   "outputs": [],
   "source": []
  },
  {
   "cell_type": "code",
   "execution_count": null,
   "id": "b2986031",
   "metadata": {},
   "outputs": [],
   "source": []
  },
  {
   "cell_type": "code",
   "execution_count": null,
   "id": "6677512c",
   "metadata": {},
   "outputs": [],
   "source": []
  }
 ],
 "metadata": {
  "kernelspec": {
   "display_name": "Python 3",
   "language": "python",
   "name": "python3"
  },
  "language_info": {
   "codemirror_mode": {
    "name": "ipython",
    "version": 3
   },
   "file_extension": ".py",
   "mimetype": "text/x-python",
   "name": "python",
   "nbconvert_exporter": "python",
   "pygments_lexer": "ipython3",
   "version": "3.10.11"
  },
  "toc": {
   "base_numbering": 1,
   "nav_menu": {},
   "number_sections": true,
   "sideBar": true,
   "skip_h1_title": false,
   "title_cell": "Table of Contents",
   "title_sidebar": "Contents",
   "toc_cell": false,
   "toc_position": {},
   "toc_section_display": true,
   "toc_window_display": false
  }
 },
 "nbformat": 4,
 "nbformat_minor": 5
}
