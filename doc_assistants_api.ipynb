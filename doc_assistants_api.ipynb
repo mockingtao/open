{
 "cells": [
  {
   "cell_type": "code",
   "execution_count": 45,
   "metadata": {},
   "outputs": [],
   "source": [
    "import openai\n",
    "from openai import OpenAI\n",
    "import os\n",
    "openai.api_key = os.getenv(\"OPENAI_API_KEY\")\n",
    "\n",
    "from pathlib import Path\n",
    "import time"
   ]
  },
  {
   "cell_type": "markdown",
   "metadata": {},
   "source": [
    "# 概述"
   ]
  },
  {
   "cell_type": "markdown",
   "metadata": {},
   "source": [
    "从较高层面来看，Assistants API 的典型集成具有以下流程：\n",
    "\n",
    "- 通过定义其自定义指令并选择模型来在 API 中创建助手。如果有帮助，请启用代码解释器、检索和函数调用等工具。\n",
    "- 当用户开始对话时创建一个线程。\n",
    "- 当用户提问时将消息添加到线程中。\n",
    "- **在线程上运行助手以触发响应。这会自动调用相关工具。**"
   ]
  },
  {
   "cell_type": "markdown",
   "metadata": {},
   "source": [
    "## 步骤1：创建一个 Assistant "
   ]
  },
  {
   "cell_type": "code",
   "execution_count": 2,
   "metadata": {},
   "outputs": [],
   "source": [
    "client = OpenAI()\n"
   ]
  },
  {
   "cell_type": "code",
   "execution_count": 5,
   "metadata": {},
   "outputs": [],
   "source": [
    "assistant = client.beta.assistants.create(\n",
    "    name=\"Math Tutor\",\n",
    "    instructions=\"You are a personal math tutor. Write and run code to answer math questions.\",\n",
    "    tools=[{\"type\": \"code_interpreter\"}],\n",
    "    model=\"gpt-3.5-turbo-1106\"\n",
    ")"
   ]
  },
  {
   "cell_type": "code",
   "execution_count": 6,
   "metadata": {},
   "outputs": [
    {
     "data": {
      "text/plain": [
       "Assistant(id='asst_q0EW21pauFzIYEygvm2A9f8H', created_at=1699949647, description=None, file_ids=[], instructions='You are a personal math tutor. Write and run code to answer math questions.', metadata={}, model='gpt-3.5-turbo-1106', name='Math Tutor', object='assistant', tools=[ToolCodeInterpreter(type='code_interpreter')])"
      ]
     },
     "execution_count": 6,
     "metadata": {},
     "output_type": "execute_result"
    }
   ],
   "source": [
    "assistant"
   ]
  },
  {
   "cell_type": "markdown",
   "metadata": {},
   "source": [
    "## 步骤2：创建一个Thread"
   ]
  },
  {
   "cell_type": "code",
   "execution_count": 7,
   "metadata": {},
   "outputs": [
    {
     "data": {
      "text/plain": [
       "Thread(id='thread_vmMDHoQMRHuLOrseONCJzU9I', created_at=1699949699, metadata={}, object='thread')"
      ]
     },
     "execution_count": 7,
     "metadata": {},
     "output_type": "execute_result"
    }
   ],
   "source": [
    "thread = client.beta.threads.create()\n",
    "thread"
   ]
  },
  {
   "cell_type": "markdown",
   "metadata": {},
   "source": [
    "## 步骤3：将Message 添加到Thread中"
   ]
  },
  {
   "cell_type": "code",
   "execution_count": 8,
   "metadata": {},
   "outputs": [
    {
     "data": {
      "text/plain": [
       "ThreadMessage(id='msg_p71nSLAMIt8VVqlKLYw7AGlL', assistant_id=None, content=[MessageContentText(text=Text(annotations=[], value='I need to solve the equation `3x + 11 = 14`. Can you help me?'), type='text')], created_at=1699949815, file_ids=[], metadata={}, object='thread.message', role='user', run_id=None, thread_id='thread_vmMDHoQMRHuLOrseONCJzU9I')"
      ]
     },
     "execution_count": 8,
     "metadata": {},
     "output_type": "execute_result"
    }
   ],
   "source": [
    "message = client.beta.threads.messages.create(\n",
    "    thread_id=thread.id,\n",
    "    role=\"user\",\n",
    "    content=\"I need to solve the equation `3x + 11 = 14`. Can you help me?\"\n",
    ")\n",
    "message"
   ]
  },
  {
   "cell_type": "markdown",
   "metadata": {},
   "source": [
    "## 步骤4：run 这个 Assistant"
   ]
  },
  {
   "cell_type": "code",
   "execution_count": 9,
   "metadata": {},
   "outputs": [],
   "source": [
    "run = client.beta.threads.runs.create(\n",
    "    thread_id=thread.id,\n",
    "    assistant_id=assistant.id,\n",
    "    # 覆盖助手的默认系统消息。这对于修改每次运行的行为很有用。\n",
    "    instructions=\"Please address the user as Jane Doe. The user has a premium account.\"\n",
    ")"
   ]
  },
  {
   "cell_type": "code",
   "execution_count": 10,
   "metadata": {},
   "outputs": [
    {
     "data": {
      "text/plain": [
       "Run(id='run_lujwIqd57oz8PFsgecIaIUVw', assistant_id='asst_q0EW21pauFzIYEygvm2A9f8H', cancelled_at=None, completed_at=None, created_at=1699950042, expires_at=1699950642, failed_at=None, file_ids=[], instructions='Please address the user as Jane Doe. The user has a premium account.', last_error=None, metadata={}, model='gpt-3.5-turbo-1106', object='thread.run', required_action=None, started_at=None, status='queued', thread_id='thread_vmMDHoQMRHuLOrseONCJzU9I', tools=[ToolAssistantToolsCode(type='code_interpreter')])"
      ]
     },
     "execution_count": 10,
     "metadata": {},
     "output_type": "execute_result"
    }
   ],
   "source": [
    "run"
   ]
  },
  {
   "cell_type": "markdown",
   "metadata": {},
   "source": [
    "## 步骤5：打印出 Assistant 的回复"
   ]
  },
  {
   "cell_type": "code",
   "execution_count": 11,
   "metadata": {},
   "outputs": [
    {
     "data": {
      "text/plain": [
       "Run(id='run_lujwIqd57oz8PFsgecIaIUVw', assistant_id='asst_q0EW21pauFzIYEygvm2A9f8H', cancelled_at=None, completed_at=1699950049, created_at=1699950042, expires_at=None, failed_at=None, file_ids=[], instructions='Please address the user as Jane Doe. The user has a premium account.', last_error=None, metadata={}, model='gpt-3.5-turbo-1106', object='thread.run', required_action=None, started_at=1699950042, status='completed', thread_id='thread_vmMDHoQMRHuLOrseONCJzU9I', tools=[ToolAssistantToolsCode(type='code_interpreter')])"
      ]
     },
     "execution_count": 11,
     "metadata": {},
     "output_type": "execute_result"
    }
   ],
   "source": [
    "run = client.beta.threads.runs.retrieve(\n",
    "    thread_id=thread.id,\n",
    "    run_id=run.id\n",
    ")\n",
    "run"
   ]
  },
  {
   "cell_type": "code",
   "execution_count": 12,
   "metadata": {},
   "outputs": [
    {
     "data": {
      "text/plain": [
       "SyncCursorPage[ThreadMessage](data=[ThreadMessage(id='msg_3Ro8gba3z2PUjQo1rLer9QE2', assistant_id='asst_q0EW21pauFzIYEygvm2A9f8H', content=[MessageContentText(text=Text(annotations=[], value='The solution to the equation 3x + 11 = 14 is x = 1.'), type='text')], created_at=1699950049, file_ids=[], metadata={}, object='thread.message', role='assistant', run_id='run_lujwIqd57oz8PFsgecIaIUVw', thread_id='thread_vmMDHoQMRHuLOrseONCJzU9I'), ThreadMessage(id='msg_p71nSLAMIt8VVqlKLYw7AGlL', assistant_id=None, content=[MessageContentText(text=Text(annotations=[], value='I need to solve the equation `3x + 11 = 14`. Can you help me?'), type='text')], created_at=1699949815, file_ids=[], metadata={}, object='thread.message', role='user', run_id=None, thread_id='thread_vmMDHoQMRHuLOrseONCJzU9I')], object='list', first_id='msg_3Ro8gba3z2PUjQo1rLer9QE2', last_id='msg_p71nSLAMIt8VVqlKLYw7AGlL', has_more=False)"
      ]
     },
     "execution_count": 12,
     "metadata": {},
     "output_type": "execute_result"
    }
   ],
   "source": [
    "message = client.beta.threads.messages.list(\n",
    "    thread_id=thread.id\n",
    ")\n",
    "\n",
    "message"
   ]
  },
  {
   "cell_type": "code",
   "execution_count": 13,
   "metadata": {},
   "outputs": [
    {
     "data": {
      "text/plain": [
       "[ThreadMessage(id='msg_3Ro8gba3z2PUjQo1rLer9QE2', assistant_id='asst_q0EW21pauFzIYEygvm2A9f8H', content=[MessageContentText(text=Text(annotations=[], value='The solution to the equation 3x + 11 = 14 is x = 1.'), type='text')], created_at=1699950049, file_ids=[], metadata={}, object='thread.message', role='assistant', run_id='run_lujwIqd57oz8PFsgecIaIUVw', thread_id='thread_vmMDHoQMRHuLOrseONCJzU9I'),\n",
       " ThreadMessage(id='msg_p71nSLAMIt8VVqlKLYw7AGlL', assistant_id=None, content=[MessageContentText(text=Text(annotations=[], value='I need to solve the equation `3x + 11 = 14`. Can you help me?'), type='text')], created_at=1699949815, file_ids=[], metadata={}, object='thread.message', role='user', run_id=None, thread_id='thread_vmMDHoQMRHuLOrseONCJzU9I')]"
      ]
     },
     "execution_count": 13,
     "metadata": {},
     "output_type": "execute_result"
    }
   ],
   "source": [
    "list(message)"
   ]
  },
  {
   "cell_type": "markdown",
   "metadata": {},
   "source": [
    "## 自行测试，步骤6，下一个问题"
   ]
  },
  {
   "cell_type": "code",
   "execution_count": 14,
   "metadata": {},
   "outputs": [
    {
     "data": {
      "text/plain": [
       "ThreadMessage(id='msg_y58Xvo9dRz00CZA7WgTrm5z0', assistant_id=None, content=[MessageContentText(text=Text(annotations=[], value='I need to solve the equation `5x + 20 = 30`. Can you help me?'), type='text')], created_at=1699950420, file_ids=[], metadata={}, object='thread.message', role='user', run_id=None, thread_id='thread_vmMDHoQMRHuLOrseONCJzU9I')"
      ]
     },
     "execution_count": 14,
     "metadata": {},
     "output_type": "execute_result"
    }
   ],
   "source": [
    "message = client.beta.threads.messages.create(\n",
    "    thread_id=thread.id,\n",
    "    role=\"user\",\n",
    "    content=\"I need to solve the equation `5x + 20 = 30`. Can you help me?\"\n",
    ")\n",
    "message"
   ]
  },
  {
   "cell_type": "code",
   "execution_count": 15,
   "metadata": {},
   "outputs": [],
   "source": [
    "run = client.beta.threads.runs.create(\n",
    "    thread_id=thread.id,\n",
    "    assistant_id=assistant.id,\n",
    "    # 覆盖助手的默认系统消息。这对于修改每次运行的行为很有用。\n",
    "    # instructions=\"Please address the user as Jane Doe. The user has a premium account.\"\n",
    ")"
   ]
  },
  {
   "cell_type": "code",
   "execution_count": 16,
   "metadata": {},
   "outputs": [
    {
     "data": {
      "text/plain": [
       "[ThreadMessage(id='msg_tO97JV3ZREoSD4h0RdRHTnwL', assistant_id='asst_q0EW21pauFzIYEygvm2A9f8H', content=[MessageContentText(text=Text(annotations=[], value='The solution to the equation 5x + 20 = 30 is x = 2.'), type='text')], created_at=1699950454, file_ids=[], metadata={}, object='thread.message', role='assistant', run_id='run_QsjWBVpy2J3tvEs4ND4jnn6d', thread_id='thread_vmMDHoQMRHuLOrseONCJzU9I'),\n",
       " ThreadMessage(id='msg_y58Xvo9dRz00CZA7WgTrm5z0', assistant_id=None, content=[MessageContentText(text=Text(annotations=[], value='I need to solve the equation `5x + 20 = 30`. Can you help me?'), type='text')], created_at=1699950420, file_ids=[], metadata={}, object='thread.message', role='user', run_id=None, thread_id='thread_vmMDHoQMRHuLOrseONCJzU9I'),\n",
       " ThreadMessage(id='msg_3Ro8gba3z2PUjQo1rLer9QE2', assistant_id='asst_q0EW21pauFzIYEygvm2A9f8H', content=[MessageContentText(text=Text(annotations=[], value='The solution to the equation 3x + 11 = 14 is x = 1.'), type='text')], created_at=1699950049, file_ids=[], metadata={}, object='thread.message', role='assistant', run_id='run_lujwIqd57oz8PFsgecIaIUVw', thread_id='thread_vmMDHoQMRHuLOrseONCJzU9I'),\n",
       " ThreadMessage(id='msg_p71nSLAMIt8VVqlKLYw7AGlL', assistant_id=None, content=[MessageContentText(text=Text(annotations=[], value='I need to solve the equation `3x + 11 = 14`. Can you help me?'), type='text')], created_at=1699949815, file_ids=[], metadata={}, object='thread.message', role='user', run_id=None, thread_id='thread_vmMDHoQMRHuLOrseONCJzU9I')]"
      ]
     },
     "execution_count": 16,
     "metadata": {},
     "output_type": "execute_result"
    }
   ],
   "source": [
    "message = client.beta.threads.messages.list(\n",
    "    thread_id=thread.id\n",
    ")\n",
    "\n",
    "list(message)"
   ]
  },
  {
   "cell_type": "markdown",
   "metadata": {},
   "source": [
    "# Assistants 工作原理\n",
    "\n",
    "- Assistants 可以使用特定指令调用 OpenAI 的模型，以调整其个性和能力。\n",
    "- Assistants 可以并行访问多个工具。这些可以是 OpenAI 托管的工具（例如代码解释器和知识检索），也可以是您构建/托管的工具（通过函数调用）。\n",
    "- Assistants 可以访问持久线程。线程通过存储消息历史记录并在对话对于模型上下文长度来说太长时截断它来简化 AI 应用程序开发。您创建一个线程一次，然后只需在用户回复时将消息附加到其中即可。\n",
    "- Assistants 可以访问多种格式的文件 - 作为其创建的一部分或作为助理和用户之间的线程的一部分。使用工具时，助理还可以创建文件（例如图像、电子表格等）并引用他们在创建的消息中引用的文件。\n",
    "\n",
    "有个疑问：Assistants 和 Agents 的区别又是什么？"
   ]
  },
  {
   "cell_type": "markdown",
   "metadata": {},
   "source": [
    "这几个模块的概念：\n",
    "\n",
    "- Assistant：一个 “专用 AI”，可以使用 OpenAI 模型和调用工具的\n",
    "- Thread：Assistant 和用户之间的对话会话。线程存储消息并自动处理截断以使内容适合模型的上下文。（cc：这里有没有解决了上下文干扰问题？）\n",
    "- Message：由Assistant 或用户创建的消息。消息可以包括文本、图像和其他文件。消息以列表形式存储在线程上。\n",
    "- Run：在线程上调用助手。助手使用它的配置和线程的消息通过调用模型和工具来执行任务。作为运行的一部分，助手将消息附加到线程。\n",
    "- Run Step：助理在运行过程中所采取的步骤的详细列表。助手可以在运行期间调用工具或创建消息。检查运行步骤可以让您反思助手如何获得最终结果。"
   ]
  },
  {
   "cell_type": "markdown",
   "metadata": {},
   "source": [
    "## 创建 Assistant"
   ]
  },
  {
   "cell_type": "code",
   "execution_count": 39,
   "metadata": {},
   "outputs": [
    {
     "data": {
      "text/plain": [
       "FileObject(id='file-uipdQnK2DMrixJISs9qLvoWe', bytes=15552, created_at=1700042664, filename='covid_worldwide.csv', object='file', purpose='assistants', status='processed', status_details=None)"
      ]
     },
     "execution_count": 39,
     "metadata": {},
     "output_type": "execute_result"
    }
   ],
   "source": [
    "# 数据分析案例\n",
    "\n",
    "file = client.files.create(\n",
    "    file=open(\"data/covid_worldwide.csv\", \"rb\"),\n",
    "    purpose=\"assistants\"\n",
    ")\n",
    "\n",
    "file"
   ]
  },
  {
   "cell_type": "code",
   "execution_count": 40,
   "metadata": {},
   "outputs": [
    {
     "data": {
      "text/plain": [
       "Assistant(id='asst_sesyhkKoIcOJCYUQttmcqH6U', created_at=1700042666, description='You are great at creating beautiful data visualizations. You analyze data present in .csv files, understand trends, and come up with data visualizations relevant to those trends. You also share a brief text summary of the trends observed.', file_ids=[], instructions=None, metadata={}, model='gpt-3.5-turbo-1106', name='Data visualizer', object='assistant', tools=[ToolCodeInterpreter(type='code_interpreter')])"
      ]
     },
     "execution_count": 40,
     "metadata": {},
     "output_type": "execute_result"
    }
   ],
   "source": [
    "assistant = client.beta.assistants.create(\n",
    "  name=\"Data visualizer\",\n",
    "  description=\"You are great at creating beautiful data visualizations. You analyze data present in .csv files, understand trends, and come up with data visualizations relevant to those trends. You also share a brief text summary of the trends observed.\",\n",
    "  model=\"gpt-3.5-turbo-1106\",\n",
    "  tools=[{\"type\": \"code_interpreter\"}],\n",
    "  # 每个Assistant最多可以附加20个文件，每个文件的最大大小为512 MB。此外，您的组织上传的所有文件的大小不应超过100GB。\n",
    "  # file_ids=[file.id]\n",
    ")\n",
    "\n",
    "assistant"
   ]
  },
  {
   "cell_type": "markdown",
   "metadata": {},
   "source": [
    "## 管理Threads 和 Messages\n",
    "\n",
    "线程和消息代表助理和用户之间的对话会话。\n",
    "\n",
    "线程中可以存储的消息数量没有限制。一旦消息的大小超过模型的上下文窗口，线程将尝试包含尽可能多的适合上下文窗口的消息并删除最旧的消息。\n",
    "\n",
    "请注意，这种截断策略可能会随着时间的推移而演变。\n",
    "\n",
    "cc：看来会有一定的识别能力。"
   ]
  },
  {
   "cell_type": "code",
   "execution_count": 41,
   "metadata": {},
   "outputs": [
    {
     "data": {
      "text/plain": [
       "Thread(id='thread_EXfeOEv5UkYjFjM69rdbVDvn', created_at=1700042671, metadata={}, object='thread')"
      ]
     },
     "execution_count": 41,
     "metadata": {},
     "output_type": "execute_result"
    }
   ],
   "source": [
    "thread = client.beta.threads.create(\n",
    "    messages=[\n",
    "        {\n",
    "            \"role\": \"user\",\n",
    "            \"content\": \"Create 3 data visualizations based on the trends in this file.\",\n",
    "            \"file_ids\": [file.id]\n",
    "        }\n",
    "    ]\n",
    ")\n",
    "\n",
    "thread"
   ]
  },
  {
   "cell_type": "code",
   "execution_count": 22,
   "metadata": {},
   "outputs": [
    {
     "name": "stdout",
     "output_type": "stream",
     "text": [
      "ThreadMessage(id='msg_OVpr1NLbpDaxHqT27fwPxuCN', assistant_id=None, content=[MessageContentText(text=Text(annotations=[], value='Create 3 data visualizations based on the trends in this file'), type='text')], created_at=1699963225, file_ids=[], metadata={}, object='thread.message', role='user', run_id=None, thread_id='thread_RbKLaKF1XnvU1izUJlMLaDGW')\n"
     ]
    }
   ],
   "source": [
    "\n",
    "thread_message = client.beta.threads.messages.create(\n",
    "  \"thread_RbKLaKF1XnvU1izUJlMLaDGW\",\n",
    "  role=\"user\",\n",
    "  content=\"Create 3 data visualizations based on the trends in this file\",\n",
    "  \n",
    ")\n",
    "print(thread_message)"
   ]
  },
  {
   "cell_type": "code",
   "execution_count": 23,
   "metadata": {},
   "outputs": [
    {
     "data": {
      "text/plain": [
       "[('id', 'msg_OVpr1NLbpDaxHqT27fwPxuCN'),\n",
       " ('assistant_id', None),\n",
       " ('content',\n",
       "  [MessageContentText(text=Text(annotations=[], value='Create 3 data visualizations based on the trends in this file'), type='text')]),\n",
       " ('created_at', 1699963225),\n",
       " ('file_ids', []),\n",
       " ('metadata', {}),\n",
       " ('object', 'thread.message'),\n",
       " ('role', 'user'),\n",
       " ('run_id', None),\n",
       " ('thread_id', 'thread_RbKLaKF1XnvU1izUJlMLaDGW')]"
      ]
     },
     "execution_count": 23,
     "metadata": {},
     "output_type": "execute_result"
    }
   ],
   "source": [
    "list(thread_message)"
   ]
  },
  {
   "cell_type": "code",
   "execution_count": 33,
   "metadata": {},
   "outputs": [],
   "source": [
    "message = client.beta.threads.messages.retrieve(\n",
    "    thread_id=\"thread_RbKLaKF1XnvU1izUJlMLaDGW\",\n",
    "    message_id=\"msg_OVpr1NLbpDaxHqT27fwPxuCN\"\n",
    ")\n",
    "\n",
    "message_content = message.content[0].text\n",
    "# cc：关于 annotations 的概念暂时不能理解。\n",
    "annotations = message_content.annotations\n",
    "citations = []\n",
    "\n"
   ]
  },
  {
   "cell_type": "code",
   "execution_count": 27,
   "metadata": {},
   "outputs": [],
   "source": [
    "for index, annotation in enumerate(annotations):\n",
    "    print(index)\n",
    "    # annotations 为空了，没有再继续"
   ]
  },
  {
   "cell_type": "markdown",
   "metadata": {},
   "source": [
    "## Runs and Run Steps"
   ]
  },
  {
   "cell_type": "code",
   "execution_count": 43,
   "metadata": {},
   "outputs": [],
   "source": [
    "\n",
    "run = client.beta.threads.runs.create(\n",
    "  thread_id=thread.id,\n",
    "  assistant_id=assistant.id,\n",
    "  model=\"gpt-3.5-turbo-1106\",\n",
    "  instructions=\"additional instructions\",\n",
    "  tools=[{\"type\": \"code_interpreter\"}, {\"type\": \"retrieval\"}]\n",
    ")"
   ]
  },
  {
   "cell_type": "code",
   "execution_count": null,
   "metadata": {},
   "outputs": [],
   "source": []
  },
  {
   "cell_type": "code",
   "execution_count": null,
   "metadata": {},
   "outputs": [],
   "source": []
  },
  {
   "cell_type": "code",
   "execution_count": null,
   "metadata": {},
   "outputs": [],
   "source": []
  },
  {
   "cell_type": "code",
   "execution_count": null,
   "metadata": {},
   "outputs": [],
   "source": []
  },
  {
   "cell_type": "code",
   "execution_count": null,
   "metadata": {},
   "outputs": [],
   "source": []
  },
  {
   "cell_type": "code",
   "execution_count": null,
   "metadata": {},
   "outputs": [],
   "source": []
  }
 ],
 "metadata": {
  "kernelspec": {
   "display_name": "langchain",
   "language": "python",
   "name": "python3"
  },
  "language_info": {
   "codemirror_mode": {
    "name": "ipython",
    "version": 3
   },
   "file_extension": ".py",
   "mimetype": "text/x-python",
   "name": "python",
   "nbconvert_exporter": "python",
   "pygments_lexer": "ipython3",
   "version": "3.10.11"
  }
 },
 "nbformat": 4,
 "nbformat_minor": 2
}
