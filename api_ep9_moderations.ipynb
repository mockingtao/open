{
 "cells": [
  {
   "cell_type": "code",
   "execution_count": 1,
   "metadata": {},
   "outputs": [],
   "source": [
    "import openai\n",
    "from openai import OpenAI\n",
    "import os\n",
    "openai.api_key = os.getenv(\"OPENAI_API_KEY\")\n",
    "\n",
    "from pathlib import Path\n"
   ]
  },
  {
   "cell_type": "markdown",
   "metadata": {},
   "source": [
    "moderations 之前没有用过，这里简单解释一下：\n",
    "\n",
    "作用：给定输入文本，如果模型将其分类为违反OpenAI的内容策略，则输出。\n",
    "\n"
   ]
  },
  {
   "cell_type": "markdown",
   "metadata": {},
   "source": [
    "# 创建 moderation"
   ]
  },
  {
   "cell_type": "code",
   "execution_count": 2,
   "metadata": {},
   "outputs": [
    {
     "data": {
      "text/plain": [
       "ModerationCreateResponse(id='modr-8KhlbJF6w75yi2m233iZuPZZA1qCY', model='text-moderation-006', results=[Moderation(categories=Categories(harassment=True, harassment_threatening=True, hate=False, hate_threatening=False, self_minus_harm=False, self_minus_harm_instructions=False, self_minus_harm_intent=False, sexual=False, sexual_minors=False, violence=True, violence_graphic=False, self-harm=False, sexual/minors=False, hate/threatening=False, violence/graphic=False, self-harm/intent=False, self-harm/instructions=False, harassment/threatening=True), category_scores=CategoryScores(harassment=0.4745193421840668, harassment_threatening=0.4030563235282898, hate=0.3416993021965027, hate_threatening=0.03023063763976097, self_minus_harm=1.1052927462174011e-09, self_minus_harm_instructions=6.60529627955625e-13, self_minus_harm_intent=1.8565884940535682e-10, sexual=1.7565666894370224e-06, sexual_minors=3.551882628016756e-07, violence=0.9925811290740967, violence_graphic=1.5010262188752677e-07, self-harm=1.1052927462174011e-09, sexual/minors=3.551882628016756e-07, hate/threatening=0.03023063763976097, violence/graphic=1.5010262188752677e-07, self-harm/intent=1.8565884940535682e-10, self-harm/instructions=6.60529627955625e-13, harassment/threatening=0.4030563235282898), flagged=True)])"
      ]
     },
     "execution_count": 2,
     "metadata": {},
     "output_type": "execute_result"
    }
   ],
   "source": [
    "client = OpenAI()\n",
    "\n",
    "client.moderations.create(input=\"I want to kill them.\")"
   ]
  },
  {
   "cell_type": "code",
   "execution_count": null,
   "metadata": {},
   "outputs": [],
   "source": []
  },
  {
   "cell_type": "code",
   "execution_count": null,
   "metadata": {},
   "outputs": [],
   "source": []
  },
  {
   "cell_type": "code",
   "execution_count": null,
   "metadata": {},
   "outputs": [],
   "source": []
  },
  {
   "cell_type": "code",
   "execution_count": null,
   "metadata": {},
   "outputs": [],
   "source": []
  },
  {
   "cell_type": "code",
   "execution_count": null,
   "metadata": {},
   "outputs": [],
   "source": []
  }
 ],
 "metadata": {
  "kernelspec": {
   "display_name": "langchain",
   "language": "python",
   "name": "python3"
  },
  "language_info": {
   "codemirror_mode": {
    "name": "ipython",
    "version": 3
   },
   "file_extension": ".py",
   "mimetype": "text/x-python",
   "name": "python",
   "nbconvert_exporter": "python",
   "pygments_lexer": "ipython3",
   "version": "3.10.11"
  }
 },
 "nbformat": 4,
 "nbformat_minor": 2
}
