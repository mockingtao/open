{
 "cells": [
  {
   "cell_type": "markdown",
   "metadata": {},
   "source": [
    "学习资料链接：：https://blog.csdn.net/xindoo/article/details/134483093\n",
    "\n",
    "重点总结：\n",
    "1. 就在上周（20231106），OpenAI在开发者大会上（openai第一届开发者大会），升级了函数调用的功能，在新的gpt-3.5和gpt-4模型中，可以在单次对话中调用多个函数了，而且在python SDK中也提供了并发函数调用相关的接口，无疑这将大幅减少大语言模型和现实世界之间交互的开发复杂度；\n",
    "2. 目前只有gpt-4-1106-preview和gpt-3.5-turbo-1106两个模式支持单词对话同时调用多个模型的，其他模型均不支持。\n",
    "3. openAI改变了api中传递function的参数，废弃了 functions和 function_call，改用了tools和tool_choice两个新参数，我猜测是为了未来增加更多的工具支持。\n"
   ]
  },
  {
   "cell_type": "markdown",
   "metadata": {},
   "source": [
    "# 案例\n",
    "\n",
    "  输出的结果是根据百度、谷歌和必应三个搜索引擎的结果，'xindoo'可能是一个技术博主、后端工程师以及Python爱好者。\n"
   ]
  },
  {
   "cell_type": "code",
   "execution_count": 6,
   "metadata": {},
   "outputs": [],
   "source": [
    "import openai\n",
    "from openai import OpenAI\n",
    "import os\n",
    "openai.api_key = os.getenv(\"OPENAI_API_KEY\")\n",
    "\n",
    "from pathlib import Path\n",
    "import json\n"
   ]
  },
  {
   "cell_type": "code",
   "execution_count": 7,
   "metadata": {},
   "outputs": [],
   "source": [
    "def search_baidu(keyword):\n",
    "    \"\"\"从百度搜索引擎中搜索关键词\"\"\"\n",
    "    return f\"{keyword}是一个技术博主\"\n",
    "\n",
    "def search_google(keyword):\n",
    "    \"\"\"从谷歌搜索引擎中搜索关键词\"\"\"\n",
    "    return f\"{keyword}是一个后端工程师\"\n",
    "\n",
    "def search_bing(keyword):\n",
    "    \"\"\"从必应搜索引擎中搜索关键词\"\"\"\n",
    "    return f\"{keyword}是一个Python爱好者\"\n"
   ]
  },
  {
   "cell_type": "code",
   "execution_count": 8,
   "metadata": {},
   "outputs": [],
   "source": [
    "tools = [\n",
    "    {\n",
    "        \"type\": \"function\",\n",
    "        \"function\": {\n",
    "            \"name\": \"search_baidu\",\n",
    "            \"description\": \"从百度搜索引擎中搜索关键词\",\n",
    "            \"parameters\": {\n",
    "                \"type\": \"object\",\n",
    "                \"properties\": {\n",
    "                    \"keyword\": {\n",
    "                        \"type\": \"string\",\n",
    "                        \"description\": \"搜索关键词\",\n",
    "                    }\n",
    "                },\n",
    "                \"required\": [\"keyword\"],\n",
    "            },\n",
    "        }\n",
    "    },    \n",
    "    {\n",
    "        \"type\": \"function\",\n",
    "        \"function\": {\n",
    "            \"name\": \"search_google\",\n",
    "            \"description\": \"从google搜索引擎中搜索关键词\",\n",
    "            \"parameters\": {\n",
    "                \"type\": \"object\",\n",
    "                \"properties\": {\n",
    "                    \"keyword\": {\n",
    "                        \"type\": \"string\",\n",
    "                        \"description\": \"搜索关键词\",\n",
    "                    }\n",
    "                },\n",
    "                \"required\": [\"keyword\"],\n",
    "            },\n",
    "        }\n",
    "    },        \n",
    "    {\n",
    "        \"type\": \"function\",\n",
    "        \"function\": {\n",
    "            \"name\": \"search_bing\",\n",
    "            \"description\": \"从bing搜索引擎中搜索关键词\",\n",
    "            \"parameters\": {\n",
    "                \"type\": \"object\",\n",
    "                \"properties\": {\n",
    "                    \"keyword\": {\n",
    "                        \"type\": \"string\",\n",
    "                        \"description\": \"搜索关键词\",\n",
    "                    }\n",
    "                },\n",
    "                \"required\": [\"keyword\"],\n",
    "            },\n",
    "        }\n",
    "    }\n",
    "]\n",
    "available_functions = { \"search_baidu\": search_baidu, \"search_google\": search_google, \"search_bing\": search_bing } \n"
   ]
  },
  {
   "cell_type": "code",
   "execution_count": 9,
   "metadata": {},
   "outputs": [],
   "source": [
    "client = OpenAI()"
   ]
  },
  {
   "cell_type": "code",
   "execution_count": 15,
   "metadata": {},
   "outputs": [],
   "source": [
    "def search(keyword):\n",
    "    messages = [{\"role\": \"user\", \"content\": f\"汇总下百度、谷歌、必应三个搜索引擎关于'{keyword}'的结果\"}]\n",
    "\n",
    "    # 发起首次请求，告诉gpt要做什么，已经有哪些函数可以调动 \n",
    "    response = client.chat.completions.create(\n",
    "        model=\"gpt-3.5-turbo-1106\",\n",
    "        messages=messages,\n",
    "        tools=tools,\n",
    "        tool_choice=\"auto\", \n",
    "    )\n",
    "    print(\"=====response 类型:\", type(response))\n",
    "    print(\"=====response :\", response)\n",
    "    response_message = response.choices[0].message\n",
    "    print(\"=====response_message 类型:\", type(response_message))\n",
    "    print(\"=====response_message :\", response_message)\n",
    "    tool_calls = response_message.tool_calls\n",
    "    print(\"=====tool_calls 类型:\", type(tool_calls))\n",
    "    print(\"=====tool_calls :\", tool_calls)\n",
    "\n",
    "    if tool_calls:\n",
    "        # 解析所有需要调用的函数及参数\n",
    "        messages.append(response_message)  # 注意这里要将openai的回复也拼接到消息列表里\n",
    "        print(\"=====messages 类型:\", type(messages))\n",
    "        print(\"=====messages :\", messages)\n",
    "        # 将所有函数调用的结果拼接到消息列表里\n",
    "        for tool_call in tool_calls:\n",
    "            function_name = tool_call.function.name\n",
    "            function_to_call = available_functions[function_name]\n",
    "            function_args = json.loads(tool_call.function.arguments)\n",
    "            function_response = function_to_call(**function_args) \n",
    "            print(function_response)\n",
    "\n",
    "            messages.append(\n",
    "                {\n",
    "                    \"tool_call_id\": tool_call.id,\n",
    "                    \"role\": \"tool\",\n",
    "                    \"name\": function_name,\n",
    "                    \"content\": function_response,\n",
    "                }\n",
    "            )\n",
    "\n",
    "        second_response = client.chat.completions.create(\n",
    "            model=\"gpt-3.5-turbo-1106\",\n",
    "            messages=messages,\n",
    "        )\n",
    "\n",
    "        return second_response.choices[0].message.content\n",
    "    \n",
    "    \n",
    "\n",
    "\n"
   ]
  },
  {
   "cell_type": "code",
   "execution_count": 16,
   "metadata": {},
   "outputs": [
    {
     "name": "stdout",
     "output_type": "stream",
     "text": [
      "=====response 类型: <class 'openai.types.chat.chat_completion.ChatCompletion'>\n",
      "=====response : ChatCompletion(id='chatcmpl-8NB6XLV10K7w45GQavNodSQn8q5Vh', choices=[Choice(finish_reason='tool_calls', index=0, message=ChatCompletionMessage(content=None, role='assistant', function_call=None, tool_calls=[ChatCompletionMessageToolCall(id='call_B23AJ0twhnJ1WjOTFLQ6yXTl', function=Function(arguments='{\"keyword\": \"xindoo\"}', name='search_baidu'), type='function'), ChatCompletionMessageToolCall(id='call_5AbgdgVXl7PHgK2shAnnxjwn', function=Function(arguments='{\"keyword\": \"xindoo\"}', name='search_google'), type='function'), ChatCompletionMessageToolCall(id='call_0U2Ub8OovrfJXS0t8Chb3MUP', function=Function(arguments='{\"keyword\": \"xindoo\"}', name='search_bing'), type='function')]))], created=1700534921, model='gpt-3.5-turbo-1106', object='chat.completion', system_fingerprint='fp_eeff13170a', usage=CompletionUsage(completion_tokens=65, prompt_tokens=175, total_tokens=240))\n",
      "=====response_message 类型: <class 'openai.types.chat.chat_completion_message.ChatCompletionMessage'>\n",
      "=====response_message : ChatCompletionMessage(content=None, role='assistant', function_call=None, tool_calls=[ChatCompletionMessageToolCall(id='call_B23AJ0twhnJ1WjOTFLQ6yXTl', function=Function(arguments='{\"keyword\": \"xindoo\"}', name='search_baidu'), type='function'), ChatCompletionMessageToolCall(id='call_5AbgdgVXl7PHgK2shAnnxjwn', function=Function(arguments='{\"keyword\": \"xindoo\"}', name='search_google'), type='function'), ChatCompletionMessageToolCall(id='call_0U2Ub8OovrfJXS0t8Chb3MUP', function=Function(arguments='{\"keyword\": \"xindoo\"}', name='search_bing'), type='function')])\n",
      "=====tool_calls 类型: <class 'list'>\n",
      "=====tool_calls : [ChatCompletionMessageToolCall(id='call_B23AJ0twhnJ1WjOTFLQ6yXTl', function=Function(arguments='{\"keyword\": \"xindoo\"}', name='search_baidu'), type='function'), ChatCompletionMessageToolCall(id='call_5AbgdgVXl7PHgK2shAnnxjwn', function=Function(arguments='{\"keyword\": \"xindoo\"}', name='search_google'), type='function'), ChatCompletionMessageToolCall(id='call_0U2Ub8OovrfJXS0t8Chb3MUP', function=Function(arguments='{\"keyword\": \"xindoo\"}', name='search_bing'), type='function')]\n",
      "=====messages 类型: <class 'list'>\n",
      "=====messages : [{'role': 'user', 'content': \"汇总下百度、谷歌、必应三个搜索引擎关于'xindoo'的结果\"}, ChatCompletionMessage(content=None, role='assistant', function_call=None, tool_calls=[ChatCompletionMessageToolCall(id='call_B23AJ0twhnJ1WjOTFLQ6yXTl', function=Function(arguments='{\"keyword\": \"xindoo\"}', name='search_baidu'), type='function'), ChatCompletionMessageToolCall(id='call_5AbgdgVXl7PHgK2shAnnxjwn', function=Function(arguments='{\"keyword\": \"xindoo\"}', name='search_google'), type='function'), ChatCompletionMessageToolCall(id='call_0U2Ub8OovrfJXS0t8Chb3MUP', function=Function(arguments='{\"keyword\": \"xindoo\"}', name='search_bing'), type='function')])]\n",
      "xindoo是一个技术博主\n",
      "xindoo是一个后端工程师\n",
      "xindoo是一个Python爱好者\n",
      "经过百度、谷歌和必应三个搜索引擎的搜索结果显示，'xindoo'是一个技术博主，后端工程师和Python爱好者。\n"
     ]
    }
   ],
   "source": [
    "print(search(\"xindoo\"))\n"
   ]
  },
  {
   "cell_type": "code",
   "execution_count": null,
   "metadata": {},
   "outputs": [],
   "source": []
  }
 ],
 "metadata": {
  "kernelspec": {
   "display_name": "langchain",
   "language": "python",
   "name": "python3"
  },
  "language_info": {
   "codemirror_mode": {
    "name": "ipython",
    "version": 3
   },
   "file_extension": ".py",
   "mimetype": "text/x-python",
   "name": "python",
   "nbconvert_exporter": "python",
   "pygments_lexer": "ipython3",
   "version": "3.10.11"
  }
 },
 "nbformat": 4,
 "nbformat_minor": 2
}
