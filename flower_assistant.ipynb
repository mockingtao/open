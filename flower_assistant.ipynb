{
 "cells": [
  {
   "cell_type": "code",
   "execution_count": 2,
   "id": "31602b0b-3a00-40b7-a8c0-e82f9b47d0b0",
   "metadata": {},
   "outputs": [],
   "source": [
    "import openai\n",
    "from openai import OpenAI\n",
    "import os\n",
    "openai.api_key = os.getenv(\"OPENAI_API_KEY\")\n",
    "\n",
    "from pathlib import Path\n",
    "# client = OpenAI(base_url='https://thales.xindoo.xyz/openai/v1/')\n",
    "client = OpenAI()"
   ]
  },
  {
   "cell_type": "code",
   "execution_count": 11,
   "id": "9d999af7-1304-4467-a3b9-0ce3e7d2b5c7",
   "metadata": {},
   "outputs": [],
   "source": [
    "# 将文件上传至openAI保存\n",
    "file = client.files.create(\n",
    "  file=open(\"flower_prices.csv\", \"rb\"),\n",
    "  purpose='assistants'\n",
    ")\n"
   ]
  },
  {
   "cell_type": "code",
   "execution_count": 41,
   "metadata": {},
   "outputs": [
    {
     "data": {
      "text/plain": [
       "FileObject(id='file-uhMIBtm4BPXlJlY1UzGIPlGn', bytes=194, created_at=1700398453, filename='flower_prices.csv', object='file', purpose='assistants', status='processed', status_details=None)"
      ]
     },
     "execution_count": 41,
     "metadata": {},
     "output_type": "execute_result"
    }
   ],
   "source": [
    "file"
   ]
  },
  {
   "cell_type": "code",
   "execution_count": 13,
   "metadata": {},
   "outputs": [],
   "source": [
    "# 定义保存账单的方法\n",
    "def save_bill(totalCost, totalIncome):\n",
    "    '''保存总成本和总的收入'''\n",
    "    print(totalCost, totalIncome)\n",
    "    return \"success\"\n",
    "\n",
    "function = {\n",
    "        \"type\": \"function\",\n",
    "        \"function\": {\n",
    "            \"name\": \"save_bill\",\n",
    "            \"description\": \"保存总成本和总的销售额\",\n",
    "            \"parameters\": {\n",
    "                \"type\": \"object\",\n",
    "                \"properties\": {\n",
    "                    \"totalCost\": {\n",
    "                        \"type\": \"number\",\n",
    "                        \"description\": \"总成本\",\n",
    "                    },\n",
    "                    \"totalIncome\": {\n",
    "                        \"type\": \"number\",\n",
    "                        \"description\": \"总收入\",\n",
    "                    }\n",
    "                },\n",
    "                \"required\": [\"totalCost\", \"totalIncome\"],\n",
    "            },\n",
    "        }\n",
    "    }\n",
    "available_functions = { \"save_bill\": save_bill}  "
   ]
  },
  {
   "cell_type": "code",
   "execution_count": 42,
   "id": "b30995e9-78e0-4246-b20d-cd1a0aaa744e",
   "metadata": {},
   "outputs": [
    {
     "data": {
      "text/plain": [
       "Assistant(id='asst_9sM4lTeCLPjPPYkEGdtzRn8s', created_at=1700404218, description='按照每种花的售出量，统计成本和收入，计算出总的销售额，给出具体过程和结果', file_ids=['file-uhMIBtm4BPXlJlY1UzGIPlGn'], instructions=None, metadata={}, model='gpt-4-1106-preview', name='花店财务助手', object='assistant', tools=[ToolCodeInterpreter(type='code_interpreter'), ToolRetrieval(type='retrieval'), ToolFunction(function=FunctionDefinition(name='save_bill', parameters={'type': 'object', 'properties': {'totalCost': {'type': 'number', 'description': '总成本'}, 'totalIncome': {'type': 'number', 'description': '总收入'}}, 'required': ['totalCost', 'totalIncome']}, description='保存总成本和总的收入'), type='function')])"
      ]
     },
     "execution_count": 42,
     "metadata": {},
     "output_type": "execute_result"
    }
   ],
   "source": [
    "# 创建助手，将code_interpreter,retrieval,function都开启\n",
    "assistant = client.beta.assistants.create(\n",
    "  name=\"花店财务助手\",\n",
    "  description=\"按照每种花的售出量，统计成本和收入，计算出总的销售额，给出具体过程和结果\",\n",
    "  model=\"gpt-4-1106-preview\",\n",
    "  tools=[{\"type\": \"code_interpreter\"}, {\"type\": \"retrieval\"}, function],\n",
    "  file_ids=[file.id]\n",
    ")\n",
    "assistant"
   ]
  },
  {
   "cell_type": "code",
   "execution_count": 43,
   "metadata": {},
   "outputs": [
    {
     "data": {
      "text/plain": [
       "Thread(id='thread_GjRyMbhhInGmMguYDhH1jxNn', created_at=1700404223, metadata={}, object='thread')"
      ]
     },
     "execution_count": 43,
     "metadata": {},
     "output_type": "execute_result"
    }
   ],
   "source": [
    "# 创建对话Thread\n",
    "thread = client.beta.threads.create(\n",
    "  messages=[\n",
    "    {\n",
    "      \"role\": \"user\",\n",
    "      \"content\": \"我卖出去了红玫瑰3支、郁金香2支、百合6支，计算下总成本和总收入，给出具体的计算过程\"\n",
    "    }\n",
    "  ]\n",
    ")\n",
    "thread"
   ]
  },
  {
   "cell_type": "code",
   "execution_count": 44,
   "metadata": {},
   "outputs": [
    {
     "data": {
      "text/plain": [
       "Run(id='run_MANRDjeJYgazCr0mIrH2HE9g', assistant_id='asst_9sM4lTeCLPjPPYkEGdtzRn8s', cancelled_at=None, completed_at=None, created_at=1700404242, expires_at=1700404842, failed_at=None, file_ids=['file-uhMIBtm4BPXlJlY1UzGIPlGn'], instructions=None, last_error=None, metadata={}, model='gpt-4-1106-preview', object='thread.run', required_action=None, started_at=1700404242, status='in_progress', thread_id='thread_GjRyMbhhInGmMguYDhH1jxNn', tools=[ToolAssistantToolsCode(type='code_interpreter'), ToolAssistantToolsRetrieval(type='retrieval'), ToolAssistantToolsFunction(function=FunctionDefinition(name='save_bill', parameters={'type': 'object', 'properties': {'totalCost': {'type': 'number', 'description': '总成本'}, 'totalIncome': {'type': 'number', 'description': '总收入'}}, 'required': ['totalCost', 'totalIncome']}, description='保存总成本和总的收入'), type='function')])"
      ]
     },
     "execution_count": 44,
     "metadata": {},
     "output_type": "execute_result"
    }
   ],
   "source": [
    "# 创建Run\n",
    "run = client.beta.threads.runs.create(\n",
    "  thread_id=thread.id,\n",
    "  assistant_id=assistant.id\n",
    ")\n",
    "# 从Run中获取结果\n",
    "run = client.beta.threads.runs.retrieve(\n",
    "  thread_id=thread.id,\n",
    "  run_id=run.id\n",
    ")\n",
    "run"
   ]
  },
  {
   "cell_type": "code",
   "execution_count": 45,
   "metadata": {},
   "outputs": [
    {
     "data": {
      "text/plain": [
       "Run(id='run_MANRDjeJYgazCr0mIrH2HE9g', assistant_id='asst_9sM4lTeCLPjPPYkEGdtzRn8s', cancelled_at=None, completed_at=None, created_at=1700404242, expires_at=1700404842, failed_at=None, file_ids=['file-uhMIBtm4BPXlJlY1UzGIPlGn'], instructions=None, last_error=None, metadata={}, model='gpt-4-1106-preview', object='thread.run', required_action=None, started_at=1700404242, status='in_progress', thread_id='thread_GjRyMbhhInGmMguYDhH1jxNn', tools=[ToolAssistantToolsCode(type='code_interpreter'), ToolAssistantToolsRetrieval(type='retrieval'), ToolAssistantToolsFunction(function=FunctionDefinition(name='save_bill', parameters={'type': 'object', 'properties': {'totalCost': {'type': 'number', 'description': '总成本'}, 'totalIncome': {'type': 'number', 'description': '总收入'}}, 'required': ['totalCost', 'totalIncome']}, description='保存总成本和总的收入'), type='function')])"
      ]
     },
     "execution_count": 45,
     "metadata": {},
     "output_type": "execute_result"
    }
   ],
   "source": [
    "# client.beta.threads.runs.cancel(run_id=run.id, thread_id=thread.id)\n",
    "run = client.beta.threads.runs.retrieve(\n",
    "  thread_id=thread.id,\n",
    "  run_id=run.id\n",
    ")\n",
    "run"
   ]
  },
  {
   "cell_type": "code",
   "execution_count": 46,
   "metadata": {},
   "outputs": [],
   "source": [
    "if run.status == 'requires_action':\n",
    "    tool_outputs=[]\n",
    "    # 调用并保存所有函数调用的结果\n",
    "    for call in run.required_action.submit_tool_outputs.tool_calls:\n",
    "        if call.type != \"function\":\n",
    "            continue\n",
    "        # 获取真实函数\n",
    "        function = available_functions[call.function.name]\n",
    "        output = {\n",
    "            \"tool_call_id\": call.id,\n",
    "            \"output\": function(**call.function.arguments),\n",
    "        }\n",
    "        tool_outputs.append(output)\n",
    "    # 将函数调用的结果回传给Assistant\n",
    "    run = client.beta.threads.runs.submit_tool_outputs(\n",
    "        thread_id=thread.id,\n",
    "        run_id=run.id,\n",
    "        tool_outputs=tool_outputs\n",
    "    )"
   ]
  },
  {
   "cell_type": "code",
   "execution_count": null,
   "metadata": {},
   "outputs": [],
   "source": [
    "# run的状态\n",
    "run = client.beta.threads.runs.retrieve(\n",
    "  thread_id=thread.id,\n",
    "  run_id=run.id\n",
    ")\n",
    "if run.status == 'completed':\n",
    "    messages = client.beta.threads.messages.list(\n",
    "      thread_id=thread.id\n",
    "    )\n",
    "    print(messages)\n",
    "elif run.status == 'failed':\n",
    "    print(run.error)"
   ]
  },
  {
   "cell_type": "code",
   "execution_count": 40,
   "metadata": {},
   "outputs": [],
   "source": [
    "# 添加新消息\n",
    "message = client.beta.threads.messages.create(\n",
    "  thread_id=thread.id,\n",
    "  role=\"user\",\n",
    "  content=\"另外还有2支向日葵，补充下这份账单\"\n",
    ")\n",
    "# 创建run\n",
    "run = client.beta.threads.runs.create(\n",
    "  thread_id=thread.id,\n",
    "  assistant_id=assistant.id\n",
    ")\n",
    "# 获取执行结果\n",
    "run = client.beta.threads.runs.retrieve(\n",
    "  thread_id=thread.id,\n",
    "  run_id=run.id\n",
    ")"
   ]
  }
 ],
 "metadata": {
  "kernelspec": {
   "display_name": "Python 3 (ipykernel)",
   "language": "python",
   "name": "python3"
  },
  "language_info": {
   "codemirror_mode": {
    "name": "ipython",
    "version": 3
   },
   "file_extension": ".py",
   "mimetype": "text/x-python",
   "name": "python",
   "nbconvert_exporter": "python",
   "pygments_lexer": "ipython3",
   "version": "3.10.11"
  }
 },
 "nbformat": 4,
 "nbformat_minor": 5
}
