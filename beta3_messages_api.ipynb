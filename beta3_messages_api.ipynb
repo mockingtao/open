{
 "cells": [
  {
   "cell_type": "code",
   "execution_count": 1,
   "metadata": {},
   "outputs": [],
   "source": [
    "import openai\n",
    "from openai import OpenAI\n",
    "import os\n",
    "openai.api_key = os.getenv(\"OPENAI_API_KEY\")\n",
    "\n",
    "from pathlib import Path\n"
   ]
  },
  {
   "cell_type": "markdown",
   "metadata": {},
   "source": [
    "# 创建 message\n",
    "\n",
    "在thread 中创建message ，得先有个thread"
   ]
  },
  {
   "cell_type": "code",
   "execution_count": 3,
   "metadata": {},
   "outputs": [],
   "source": [
    "client = OpenAI()\n"
   ]
  },
  {
   "cell_type": "code",
   "execution_count": 4,
   "metadata": {},
   "outputs": [
    {
     "data": {
      "text/plain": [
       "Thread(id='thread_ezzie4rBi3ZQE6I0VMLkSYnG', created_at=1699948700, metadata={}, object='thread')"
      ]
     },
     "execution_count": 4,
     "metadata": {},
     "output_type": "execute_result"
    }
   ],
   "source": [
    "thread1 = client.beta.threads.create()\n",
    "thread1"
   ]
  },
  {
   "cell_type": "code",
   "execution_count": 5,
   "metadata": {},
   "outputs": [
    {
     "name": "stdout",
     "output_type": "stream",
     "text": [
      "ThreadMessage(id='msg_m45tQTr7zIOixXgsZJhdXdbx', assistant_id=None, content=[MessageContentText(text=Text(annotations=[], value='How does AI work? Explain it in simple terms.'), type='text')], created_at=1699948712, file_ids=[], metadata={}, object='thread.message', role='user', run_id=None, thread_id='thread_ezzie4rBi3ZQE6I0VMLkSYnG')\n"
     ]
    }
   ],
   "source": [
    "\n",
    "thread_message = client.beta.threads.messages.create(\n",
    "  \"thread_ezzie4rBi3ZQE6I0VMLkSYnG\",\n",
    "  role=\"user\",\n",
    "  content=\"How does AI work? Explain it in simple terms.\",\n",
    ")\n",
    "print(thread_message)"
   ]
  },
  {
   "cell_type": "markdown",
   "metadata": {},
   "source": [
    "# 检索 message"
   ]
  },
  {
   "cell_type": "code",
   "execution_count": null,
   "metadata": {},
   "outputs": [],
   "source": [
    "message = client.beta.threads.messages.retrieve(\n",
    "  message_id=\"msg_abc123\",\n",
    "  thread_id=\"thread_abc123\",\n",
    ")\n",
    "print(message)"
   ]
  },
  {
   "cell_type": "markdown",
   "metadata": {},
   "source": [
    "# 修改 message"
   ]
  },
  {
   "cell_type": "code",
   "execution_count": null,
   "metadata": {},
   "outputs": [],
   "source": [
    "message = client.beta.threads.messages.update(\n",
    "  message_id=\"msg_abc12\",\n",
    "  thread_id=\"thread_abc123\",\n",
    "  metadata={\n",
    "    \"modified\": \"true\",\n",
    "    \"user\": \"abc123\",\n",
    "  },\n",
    ")\n",
    "print(message)"
   ]
  },
  {
   "cell_type": "markdown",
   "metadata": {},
   "source": [
    "# 列举 message"
   ]
  },
  {
   "cell_type": "code",
   "execution_count": null,
   "metadata": {},
   "outputs": [],
   "source": [
    "thread_messages = client.beta.threads.messages.list(\"thread_abc123\")\n",
    "print(thread_messages.data)"
   ]
  },
  {
   "cell_type": "markdown",
   "metadata": {},
   "source": [
    "# 检索 message file"
   ]
  },
  {
   "cell_type": "code",
   "execution_count": null,
   "metadata": {},
   "outputs": [],
   "source": [
    "\n",
    "\n",
    "message_files = client.beta.threads.messages.files.retrieve(\n",
    "    thread_id=\"thread_abc123\",\n",
    "    message_id=\"msg_abc123\",\n",
    "    file_id=\"file-abc123\"\n",
    ")\n",
    "print(message_files)\n"
   ]
  },
  {
   "cell_type": "markdown",
   "metadata": {},
   "source": [
    "# 列举 message files"
   ]
  },
  {
   "cell_type": "code",
   "execution_count": null,
   "metadata": {},
   "outputs": [],
   "source": [
    "\n",
    "\n",
    "message_files = client.beta.threads.messages.files.list(\n",
    "  thread_id=\"thread_abc123\",\n",
    "  message_id=\"msg_abc123\"\n",
    ")\n",
    "print(message_files)\n"
   ]
  },
  {
   "cell_type": "code",
   "execution_count": null,
   "metadata": {},
   "outputs": [],
   "source": []
  },
  {
   "cell_type": "code",
   "execution_count": null,
   "metadata": {},
   "outputs": [],
   "source": []
  },
  {
   "cell_type": "code",
   "execution_count": null,
   "metadata": {},
   "outputs": [],
   "source": []
  },
  {
   "cell_type": "code",
   "execution_count": null,
   "metadata": {},
   "outputs": [],
   "source": []
  }
 ],
 "metadata": {
  "kernelspec": {
   "display_name": "langchain",
   "language": "python",
   "name": "python3"
  },
  "language_info": {
   "codemirror_mode": {
    "name": "ipython",
    "version": 3
   },
   "file_extension": ".py",
   "mimetype": "text/x-python",
   "name": "python",
   "nbconvert_exporter": "python",
   "pygments_lexer": "ipython3",
   "version": "3.10.11"
  }
 },
 "nbformat": 4,
 "nbformat_minor": 2
}
