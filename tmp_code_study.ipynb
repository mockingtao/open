{
 "cells": [
  {
   "cell_type": "code",
   "execution_count": 2,
   "metadata": {},
   "outputs": [
    {
     "name": "stderr",
     "output_type": "stream",
     "text": [
      "usage: ipykernel_launcher.py [-h] [--H]\n",
      "ipykernel_launcher.py: error: unrecognized arguments: --f=/Users/matao/Library/Jupyter/runtime/kernel-v2-17587MpefWhi7rPat.json\n"
     ]
    },
    {
     "ename": "SystemExit",
     "evalue": "2",
     "output_type": "error",
     "traceback": [
      "An exception has occurred, use %tb to see the full traceback.\n",
      "\u001b[0;31mSystemExit\u001b[0m\u001b[0;31m:\u001b[0m 2\n"
     ]
    }
   ],
   "source": [
    "import argparse\n",
    "\n",
    "# 创建一个ArgumentParser对象\n",
    "parser = argparse.ArgumentParser()\n",
    "\n",
    "# 添加一个命令行选项\n",
    "parser.add_argument('--debug', action='store_true', help='enable debug mode')\n",
    "\n",
    "# 解析命令行参数\n",
    "args = parser.parse_args()\n",
    "\n",
    "# 调用runserver函数，并将args作为参数传递\n",
    "runserver(args)"
   ]
  },
  {
   "cell_type": "markdown",
   "metadata": {},
   "source": [
    "# 关于 Pydantic Field \n",
    "\n",
    "- Field是Pydantic库中用于定义模型字段的工具。它允许您指定字段的默认值、验证规则和描述信息。元数据是指与字段相关的附加信息，例如描述字段的用途、默认值的生成函数等。在Pydantic中，元数据通过Field来指定。 \n",
    "\n",
    "- 使用Field的好处包括：\n",
    "1. 提供了对字段的元数据描述，有助于生成文档和验证数据。\n",
    "2. 允许指定默认值和验证规则，提高了代码的可读性和可维护性。\n",
    "3. 可以在模型定义中集中管理字段的元数据，使代码更加清晰和易于理解。 \n",
    "\n",
    "- 在Pydantic中，可以不使用Field来定义模型字段，但这样会导致以下问题：\n",
    "1. 缺乏对字段的元数据描述，可能会导致文档不完整或不清晰。\n",
    "2. 无法指定默认值和验证规则，可能会导致数据不符合预期或出现错误。\n",
    "3. 难以集中管理字段的元数据，可能会导致代码难以理解和维护。\n",
    "\n",
    "因此，虽然可以不使用Field，但建议在Pydantic模型中使用Field来定义字段，以便提供更清晰的元数据描述和更好的数据验证。 \n",
    "\n",
    "- Field可以通过以下方式对字段进行元数据管理：\n",
    "1. 指定默认值：使用default或default_factory参数来指定字段的默认值。\n",
    "2. 描述信息：使用description参数来提供关于字段用途和含义的描述信息。\n",
    "3. 验证规则：使用...或其他Pydantic验证器来定义字段的验证规则，例如必填字段、最大长度等。\n",
    "\n",
    "通过这些参数，Field可以帮助管理字段的默认值、描述信息和验证规则，从而提高代码的可读性和可维护性。 "
   ]
  },
  {
   "cell_type": "code",
   "execution_count": 7,
   "metadata": {},
   "outputs": [
    {
     "name": "stdout",
     "output_type": "stream",
     "text": [
      "default=PydanticUndefined default_factory=<staticmethod(<function YourModel.gen_userId at 0x107cec3a0>)> description='A unique identifier for the user' extra={}\n"
     ]
    }
   ],
   "source": [
    "from pydantic import BaseModel, Field\n",
    "# from nanoid import generate\n",
    "\n",
    "\n",
    "class YourModel(BaseModel):\n",
    "    @staticmethod\n",
    "    def gen_userId():\n",
    "        \"\"\"Generate a unique user ID.\"\"\"\n",
    "        return generate(size=12)\n",
    "    \n",
    "    userId: str = Field(\n",
    "        default_factory=gen_userId, description=\"A unique identifier for the user\"\n",
    "    )\n",
    "\n",
    "print(YourModel.__fields__[\"userId\"].field_info)"
   ]
  },
  {
   "cell_type": "code",
   "execution_count": null,
   "metadata": {},
   "outputs": [],
   "source": []
  },
  {
   "cell_type": "code",
   "execution_count": null,
   "metadata": {},
   "outputs": [],
   "source": []
  }
 ],
 "metadata": {
  "kernelspec": {
   "display_name": "langchain",
   "language": "python",
   "name": "python3"
  },
  "language_info": {
   "codemirror_mode": {
    "name": "ipython",
    "version": 3
   },
   "file_extension": ".py",
   "mimetype": "text/x-python",
   "name": "python",
   "nbconvert_exporter": "python",
   "pygments_lexer": "ipython3",
   "version": "3.10.11"
  }
 },
 "nbformat": 4,
 "nbformat_minor": 2
}
