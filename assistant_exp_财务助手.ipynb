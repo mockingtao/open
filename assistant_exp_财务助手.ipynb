{
 "cells": [
  {
   "cell_type": "markdown",
   "metadata": {},
   "source": [
    "假设我们需要开发一个数据分析助手，它的主要功能是根据我们每天卖出去的花，统计成本和收入，最后将收入和成本保存到数据库里。"
   ]
  },
  {
   "cell_type": "markdown",
   "metadata": {},
   "source": [
    "Assistant\t助手，可以使用指定模型根据的一个实体，如果把助手比作某个人的化，这里就是指具备某些能力的一个具体的人\n",
    "\n",
    "Thread\t没有合适的翻译，这里就不翻译了，可以认为这个是和助手的沟通的上下文对话信息， 就好比你和某宝客服沟通，整个对话就可以认为是一个Thread\n",
    "\n",
    "Run\t也没有合适的翻译，可以认为是你向助手发起一次对话，整个对话响应的过程及工程中的状态变化，就可以当成一个run，一个run里不仅仅可以有模型的回复，还可以有函数调用、代码解释器调用、文件召回……\n",
    "\n",
    "Run Step\tRun各个步骤的详情，可以看到整个助手的运行过程，主要是方便问题排查和助手优化\n"
   ]
  },
  {
   "cell_type": "code",
   "execution_count": 60,
   "metadata": {},
   "outputs": [],
   "source": [
    "import openai\n",
    "from openai import OpenAI\n",
    "import os\n",
    "openai.api_key = os.getenv(\"OPENAI_API_KEY\")\n",
    "\n",
    "from pathlib import Path\n"
   ]
  },
  {
   "cell_type": "markdown",
   "metadata": {},
   "source": [
    "# 数据文件准备\n"
   ]
  },
  {
   "cell_type": "code",
   "execution_count": 61,
   "metadata": {},
   "outputs": [],
   "source": [
    "client = OpenAI()\n",
    "\n",
    "# 文件上传\n",
    "file = client.files.create(\n",
    "    file=open(\"data/covid_worldwide.csv\", \"rb\"),\n",
    "    purpose=\"assistants\"\n",
    ")\n"
   ]
  },
  {
   "cell_type": "code",
   "execution_count": 62,
   "metadata": {},
   "outputs": [
    {
     "data": {
      "text/plain": [
       "FileObject(id='file-3tcLztUj39qmbRWW1Dbijn88', bytes=15552, created_at=1700473444, filename='covid_worldwide.csv', object='file', purpose='assistants', status='processed', status_details=None)"
      ]
     },
     "execution_count": 62,
     "metadata": {},
     "output_type": "execute_result"
    }
   ],
   "source": [
    "file"
   ]
  },
  {
   "cell_type": "code",
   "execution_count": 63,
   "metadata": {},
   "outputs": [],
   "source": [
    "# 定义保存账单的方法\n",
    "def get_total_revovered(totalRecovered):\n",
    "    '''保存总成本和总的收入'''\n",
    "    print(totalRecovered)\n",
    "    return \"success\"\n",
    "\n",
    "function = {\n",
    "        \"type\": \"function\",\n",
    "        \"function\": {\n",
    "            \"name\": \"get_total_revovered\",\n",
    "            \"description\": \"保存恢复人数\",\n",
    "            \"parameters\": {\n",
    "                \"type\": \"object\",\n",
    "                \"properties\": {\n",
    "                    \"totalRecovered\": {\n",
    "                        \"type\": \"number\",\n",
    "                        \"description\": \"总恢复人数\",\n",
    "                    }\n",
    "                },\n",
    "                \"required\": [\"totalRecovered\"],\n",
    "            },\n",
    "        }\n",
    "    }\n",
    "available_functions = { \"get_total_revovered\": get_total_revovered}  \n"
   ]
  },
  {
   "cell_type": "markdown",
   "metadata": {},
   "source": [
    "# 创建助手\n"
   ]
  },
  {
   "cell_type": "code",
   "execution_count": 65,
   "metadata": {},
   "outputs": [],
   "source": [
    "assistant = client.beta.assistants.create(\n",
    "    name=\"Data analyst\",\n",
    "    # description=\"按照每种商品的售出量，统计成本和收入，计算出总利润\",\n",
    "    instructions=\"You are a professional data analyst with years of experience. Answer the question as truthfully as possible based on the information provided.\",\n",
    "    model=\"gpt-3.5-turbo-1106\",\n",
    "    tools=[{\"type\": \"code_interpreter\"}, {\"type\": \"retrieval\"}, function],\n",
    "    file_ids = [file.id]\n",
    ")"
   ]
  },
  {
   "cell_type": "code",
   "execution_count": 66,
   "metadata": {},
   "outputs": [
    {
     "data": {
      "text/plain": [
       "Assistant(id='asst_9LR3yFBZUCyQr3yGZ5wigthE', created_at=1700473594, description=None, file_ids=['file-3tcLztUj39qmbRWW1Dbijn88'], instructions='You are a professional data analyst with years of experience. Answer the question as truthfully as possible based on the information provided.', metadata={}, model='gpt-3.5-turbo-1106', name='Data analyst', object='assistant', tools=[ToolCodeInterpreter(type='code_interpreter'), ToolRetrieval(type='retrieval'), ToolFunction(function=FunctionDefinition(name='get_total_revovered', parameters={'type': 'object', 'properties': {'totalRecovered': {'type': 'number', 'description': '总恢复人数'}}, 'required': ['totalRecovered']}, description='保存恢复人数'), type='function')])"
      ]
     },
     "execution_count": 66,
     "metadata": {},
     "output_type": "execute_result"
    }
   ],
   "source": [
    "assistant"
   ]
  },
  {
   "cell_type": "markdown",
   "metadata": {},
   "source": [
    "# 创建Thread"
   ]
  },
  {
   "cell_type": "code",
   "execution_count": 67,
   "metadata": {},
   "outputs": [
    {
     "data": {
      "text/plain": [
       "Thread(id='thread_5AATsGVU0T7rpmb2lONsuKHm', created_at=1700473668, metadata={}, object='thread')"
      ]
     },
     "execution_count": 67,
     "metadata": {},
     "output_type": "execute_result"
    }
   ],
   "source": [
    "thread = client.beta.threads.create(\n",
    "    messages=[\n",
    "        {\n",
    "            \"role\": \"user\",\n",
    "            \"content\": \"各个国家恢复人数占比是多少？\"\n",
    "        }\n",
    "    ]\n",
    ")\n",
    "\n",
    "thread"
   ]
  },
  {
   "cell_type": "markdown",
   "metadata": {},
   "source": [
    "这里看到Thead并没有和Assistant关联到一起，猜测这里只是在本地代码里创建了一个Thread对象，实际上在OpenAI那边还没有任何操作，这个可能是OpenAI利用懒加载来减轻对服务端的压力。"
   ]
  },
  {
   "cell_type": "markdown",
   "metadata": {},
   "source": [
    "# 创建 run"
   ]
  },
  {
   "cell_type": "code",
   "execution_count": 68,
   "metadata": {},
   "outputs": [
    {
     "data": {
      "text/plain": [
       "Run(id='run_3hoGRwWWwVf8IE7mIgjxWxQX', assistant_id='asst_9LR3yFBZUCyQr3yGZ5wigthE', cancelled_at=None, completed_at=None, created_at=1700473673, expires_at=1700474273, failed_at=None, file_ids=['file-3tcLztUj39qmbRWW1Dbijn88'], instructions='You are a professional data analyst with years of experience. Answer the question as truthfully as possible based on the information provided.', last_error=None, metadata={}, model='gpt-3.5-turbo-1106', object='thread.run', required_action=None, started_at=None, status='queued', thread_id='thread_5AATsGVU0T7rpmb2lONsuKHm', tools=[ToolAssistantToolsCode(type='code_interpreter'), ToolAssistantToolsRetrieval(type='retrieval'), ToolAssistantToolsFunction(function=FunctionDefinition(name='get_total_revovered', parameters={'type': 'object', 'properties': {'totalRecovered': {'type': 'number', 'description': '总恢复人数'}}, 'required': ['totalRecovered']}, description='保存恢复人数'), type='function')])"
      ]
     },
     "execution_count": 68,
     "metadata": {},
     "output_type": "execute_result"
    }
   ],
   "source": [
    "run = client.beta.threads.runs.create(\n",
    "    thread_id = thread.id,\n",
    "    assistant_id = assistant.id\n",
    ")\n",
    "run"
   ]
  },
  {
   "cell_type": "markdown",
   "metadata": {},
   "source": [
    "Run创建好之后，需要让OpenAI运行起来，这里就需要调用Retrieve方法，来获取Run的运行结果，这里如果你打印出run的话，你可能会看到类似的信息。"
   ]
  },
  {
   "cell_type": "code",
   "execution_count": 69,
   "metadata": {},
   "outputs": [
    {
     "data": {
      "text/plain": [
       "Run(id='run_3hoGRwWWwVf8IE7mIgjxWxQX', assistant_id='asst_9LR3yFBZUCyQr3yGZ5wigthE', cancelled_at=None, completed_at=None, created_at=1700473673, expires_at=1700474273, failed_at=None, file_ids=['file-3tcLztUj39qmbRWW1Dbijn88'], instructions='You are a professional data analyst with years of experience. Answer the question as truthfully as possible based on the information provided.', last_error=None, metadata={}, model='gpt-3.5-turbo-1106', object='thread.run', required_action=None, started_at=1700473673, status='in_progress', thread_id='thread_5AATsGVU0T7rpmb2lONsuKHm', tools=[ToolAssistantToolsCode(type='code_interpreter'), ToolAssistantToolsRetrieval(type='retrieval'), ToolAssistantToolsFunction(function=FunctionDefinition(name='get_total_revovered', parameters={'type': 'object', 'properties': {'totalRecovered': {'type': 'number', 'description': '总恢复人数'}}, 'required': ['totalRecovered']}, description='保存恢复人数'), type='function')])"
      ]
     },
     "execution_count": 69,
     "metadata": {},
     "output_type": "execute_result"
    }
   ],
   "source": [
    "# 通过retrieve 获取run 状态\n",
    "run = client.beta.threads.runs.retrieve(\n",
    "    thread_id = thread.id,\n",
    "    run_id = run.id\n",
    ")\n",
    "\n",
    "run"
   ]
  },
  {
   "cell_type": "code",
   "execution_count": 70,
   "metadata": {},
   "outputs": [
    {
     "data": {
      "text/plain": [
       "[('id', 'run_3hoGRwWWwVf8IE7mIgjxWxQX'),\n",
       " ('assistant_id', 'asst_9LR3yFBZUCyQr3yGZ5wigthE'),\n",
       " ('cancelled_at', None),\n",
       " ('completed_at', None),\n",
       " ('created_at', 1700473673),\n",
       " ('expires_at', 1700474273),\n",
       " ('failed_at', None),\n",
       " ('file_ids', ['file-3tcLztUj39qmbRWW1Dbijn88']),\n",
       " ('instructions',\n",
       "  'You are a professional data analyst with years of experience. Answer the question as truthfully as possible based on the information provided.'),\n",
       " ('last_error', None),\n",
       " ('metadata', {}),\n",
       " ('model', 'gpt-3.5-turbo-1106'),\n",
       " ('object', 'thread.run'),\n",
       " ('required_action', None),\n",
       " ('started_at', 1700473673),\n",
       " ('status', 'in_progress'),\n",
       " ('thread_id', 'thread_5AATsGVU0T7rpmb2lONsuKHm'),\n",
       " ('tools',\n",
       "  [ToolAssistantToolsCode(type='code_interpreter'),\n",
       "   ToolAssistantToolsRetrieval(type='retrieval'),\n",
       "   ToolAssistantToolsFunction(function=FunctionDefinition(name='get_total_revovered', parameters={'type': 'object', 'properties': {'totalRecovered': {'type': 'number', 'description': '总恢复人数'}}, 'required': ['totalRecovered']}, description='保存恢复人数'), type='function')])]"
      ]
     },
     "execution_count": 70,
     "metadata": {},
     "output_type": "execute_result"
    }
   ],
   "source": [
    "list(run)"
   ]
  },
  {
   "cell_type": "markdown",
   "metadata": {},
   "source": [
    "- queued\t当Runs首次创建或者调用了retrive获取状态后，就会变成queued等待运行。正常情况下，很快就会变成in_progress状态。\n",
    "- in_progress\t说明run正在执行中，这时候可以调用run step来查看具体的执行过程\n",
    "- completed\t执行完成，可以获取Assistant返回的消息了，也可以继续想Assistant提问了\n",
    "- requires_action\t如果Assistant需要执行函数调用，就会转到这个状态，然后你必须按给定的参数调用指定的方法，之后run才可以继续运行\n",
    "- expired\t当没有在expires_at之前提交函数调用输出，run将会过期。另外，如果在expires_at之前没获取输出，run也会变成expired状态\n",
    "- cancelling\t当你调用client.beta.threads.runs.cancel(run_id=run.id, thread_id=thread.id)方法后，run就会变成cancelling，取消成功后就会变成callcelled状态\n",
    "- cancelled\tRun已成功取消。\n",
    "- failed\t运行失败，你可以通过查看Run中的last_error对象来查看失败的原因。\n",
    "\n",
    "**这里需要特别注意requires_action状态，这个是需要要求代码本地去执行一些函数的，执行完成后将结果返回给Assistant，之后run才能继续运行下去。**\n"
   ]
  },
  {
   "cell_type": "code",
   "execution_count": 71,
   "metadata": {},
   "outputs": [],
   "source": [
    "# run 触发函数调用\n",
    "import json\n",
    "\n",
    "if run.status == 'requires_action':\n",
    "    tool_outputs = []\n",
    "    # 调用并保存所有函数调用的结果\n",
    "    for call in run.required_action.submit_tool_outputs.tool_calls:\n",
    "        if call.type != \"function\":\n",
    "            continue\n",
    "        print(call)\n",
    "        print(json.loads(call.function.arguments))\n",
    "        # 获取真实函数\n",
    "        function = available_functions[call.function.name]\n",
    "        output= {\n",
    "            \"tool_call_id\": call.id,\n",
    "            \"output\": function(**json.loads(call.function.arguments)),\n",
    "        }\n",
    "        tool_outputs.append(output)\n",
    "\n",
    "    run = client.beta.threads.runs.submit_tool_outputs(\n",
    "        thread_id = thread.id,\n",
    "        run_id = run.id,\n",
    "        tool_outputs = tool_outputs\n",
    "    )\n",
    "        "
   ]
  },
  {
   "cell_type": "code",
   "execution_count": 72,
   "metadata": {},
   "outputs": [
    {
     "data": {
      "text/plain": [
       "[('id', 'run_3hoGRwWWwVf8IE7mIgjxWxQX'),\n",
       " ('assistant_id', 'asst_9LR3yFBZUCyQr3yGZ5wigthE'),\n",
       " ('cancelled_at', None),\n",
       " ('completed_at', None),\n",
       " ('created_at', 1700473673),\n",
       " ('expires_at', 1700474273),\n",
       " ('failed_at', None),\n",
       " ('file_ids', ['file-3tcLztUj39qmbRWW1Dbijn88']),\n",
       " ('instructions',\n",
       "  'You are a professional data analyst with years of experience. Answer the question as truthfully as possible based on the information provided.'),\n",
       " ('last_error', None),\n",
       " ('metadata', {}),\n",
       " ('model', 'gpt-3.5-turbo-1106'),\n",
       " ('object', 'thread.run'),\n",
       " ('required_action', None),\n",
       " ('started_at', 1700473673),\n",
       " ('status', 'in_progress'),\n",
       " ('thread_id', 'thread_5AATsGVU0T7rpmb2lONsuKHm'),\n",
       " ('tools',\n",
       "  [ToolAssistantToolsCode(type='code_interpreter'),\n",
       "   ToolAssistantToolsRetrieval(type='retrieval'),\n",
       "   ToolAssistantToolsFunction(function=FunctionDefinition(name='get_total_revovered', parameters={'type': 'object', 'properties': {'totalRecovered': {'type': 'number', 'description': '总恢复人数'}}, 'required': ['totalRecovered']}, description='保存恢复人数'), type='function')])]"
      ]
     },
     "execution_count": 72,
     "metadata": {},
     "output_type": "execute_result"
    }
   ],
   "source": [
    "list(run)"
   ]
  },
  {
   "cell_type": "code",
   "execution_count": 74,
   "metadata": {},
   "outputs": [
    {
     "name": "stdout",
     "output_type": "stream",
     "text": [
      "SyncCursorPage[ThreadMessage](data=[ThreadMessage(id='msg_OPOUTtYJM9UHIRimx2n9BwSN', assistant_id='asst_9LR3yFBZUCyQr3yGZ5wigthE', content=[MessageContentText(text=Text(annotations=[], value='Here are the recovery rates as a percentage for the selected countries:\\n\\n- USA: 97.24%\\n- India: 98.81%\\n- France: 99.34%\\n- Germany: 98.99%\\n- Brazil: 97.54%\\n\\nThese numbers represent the proportion of recovered cases out of the total reported cases for each country. If you need the recovery rates for more countries, please let me know!'), type='text')], created_at=1700473692, file_ids=[], metadata={}, object='thread.message', role='assistant', run_id='run_3hoGRwWWwVf8IE7mIgjxWxQX', thread_id='thread_5AATsGVU0T7rpmb2lONsuKHm'), ThreadMessage(id='msg_zw85BC2T6NLPrK3B6KsQbRrK', assistant_id='asst_9LR3yFBZUCyQr3yGZ5wigthE', content=[MessageContentText(text=Text(annotations=[], value=\"The data contains information about the total cases, deaths, recoveries, active cases, total tests, and population for different countries. To calculate the recovery rate as a percentage for each country, I'll first clean the data by removing commas from the numbers and converting them to numeric values. Then I'll calculate the recovery rate for each country.\"), type='text')], created_at=1700473683, file_ids=[], metadata={}, object='thread.message', role='assistant', run_id='run_3hoGRwWWwVf8IE7mIgjxWxQX', thread_id='thread_5AATsGVU0T7rpmb2lONsuKHm'), ThreadMessage(id='msg_nGIzlDa9NFRXHg4tSC3eIsso', assistant_id=None, content=[MessageContentText(text=Text(annotations=[], value='各个国家恢复人数占比是多少？'), type='text')], created_at=1700473668, file_ids=[], metadata={}, object='thread.message', role='user', run_id=None, thread_id='thread_5AATsGVU0T7rpmb2lONsuKHm')], object='list', first_id='msg_OPOUTtYJM9UHIRimx2n9BwSN', last_id='msg_nGIzlDa9NFRXHg4tSC3eIsso', has_more=False)\n"
     ]
    }
   ],
   "source": [
    "# 获取 Assistant 的消息\n",
    "run = client.beta.threads.runs.retrieve(\n",
    "    thread_id = thread.id,\n",
    "    run_id = run.id\n",
    ")\n",
    "if run.status == 'completed':\n",
    "    messages = client.beta.threads.messages.list(\n",
    "        thread_id = thread.id\n",
    "    )\n",
    "    print(messages)\n",
    "elif run.status == 'failed':\n",
    "    print(run.error)\n",
    "\n",
    "    "
   ]
  },
  {
   "cell_type": "code",
   "execution_count": 80,
   "metadata": {},
   "outputs": [
    {
     "data": {
      "text/plain": [
       "[ThreadMessage(id='msg_OPOUTtYJM9UHIRimx2n9BwSN', assistant_id='asst_9LR3yFBZUCyQr3yGZ5wigthE', content=[MessageContentText(text=Text(annotations=[], value='Here are the recovery rates as a percentage for the selected countries:\\n\\n- USA: 97.24%\\n- India: 98.81%\\n- France: 99.34%\\n- Germany: 98.99%\\n- Brazil: 97.54%\\n\\nThese numbers represent the proportion of recovered cases out of the total reported cases for each country. If you need the recovery rates for more countries, please let me know!'), type='text')], created_at=1700473692, file_ids=[], metadata={}, object='thread.message', role='assistant', run_id='run_3hoGRwWWwVf8IE7mIgjxWxQX', thread_id='thread_5AATsGVU0T7rpmb2lONsuKHm'),\n",
       " ThreadMessage(id='msg_zw85BC2T6NLPrK3B6KsQbRrK', assistant_id='asst_9LR3yFBZUCyQr3yGZ5wigthE', content=[MessageContentText(text=Text(annotations=[], value=\"The data contains information about the total cases, deaths, recoveries, active cases, total tests, and population for different countries. To calculate the recovery rate as a percentage for each country, I'll first clean the data by removing commas from the numbers and converting them to numeric values. Then I'll calculate the recovery rate for each country.\"), type='text')], created_at=1700473683, file_ids=[], metadata={}, object='thread.message', role='assistant', run_id='run_3hoGRwWWwVf8IE7mIgjxWxQX', thread_id='thread_5AATsGVU0T7rpmb2lONsuKHm'),\n",
       " ThreadMessage(id='msg_nGIzlDa9NFRXHg4tSC3eIsso', assistant_id=None, content=[MessageContentText(text=Text(annotations=[], value='各个国家恢复人数占比是多少？'), type='text')], created_at=1700473668, file_ids=[], metadata={}, object='thread.message', role='user', run_id=None, thread_id='thread_5AATsGVU0T7rpmb2lONsuKHm')]"
      ]
     },
     "execution_count": 80,
     "metadata": {},
     "output_type": "execute_result"
    }
   ],
   "source": [
    "messages.data"
   ]
  },
  {
   "cell_type": "code",
   "execution_count": 82,
   "metadata": {},
   "outputs": [
    {
     "data": {
      "text/plain": [
       "[('id', 'run_3hoGRwWWwVf8IE7mIgjxWxQX'),\n",
       " ('assistant_id', 'asst_9LR3yFBZUCyQr3yGZ5wigthE'),\n",
       " ('cancelled_at', None),\n",
       " ('completed_at', 1700473693),\n",
       " ('created_at', 1700473673),\n",
       " ('expires_at', None),\n",
       " ('failed_at', None),\n",
       " ('file_ids', ['file-3tcLztUj39qmbRWW1Dbijn88']),\n",
       " ('instructions',\n",
       "  'You are a professional data analyst with years of experience. Answer the question as truthfully as possible based on the information provided.'),\n",
       " ('last_error', None),\n",
       " ('metadata', {}),\n",
       " ('model', 'gpt-3.5-turbo-1106'),\n",
       " ('object', 'thread.run'),\n",
       " ('required_action', None),\n",
       " ('started_at', 1700473673),\n",
       " ('status', 'completed'),\n",
       " ('thread_id', 'thread_5AATsGVU0T7rpmb2lONsuKHm'),\n",
       " ('tools',\n",
       "  [ToolAssistantToolsCode(type='code_interpreter'),\n",
       "   ToolAssistantToolsRetrieval(type='retrieval'),\n",
       "   ToolAssistantToolsFunction(function=FunctionDefinition(name='get_total_revovered', parameters={'type': 'object', 'properties': {'totalRecovered': {'type': 'number', 'description': '总恢复人数'}}, 'required': ['totalRecovered']}, description='保存恢复人数'), type='function')])]"
      ]
     },
     "execution_count": 82,
     "metadata": {},
     "output_type": "execute_result"
    }
   ],
   "source": [
    "list(run)"
   ]
  },
  {
   "cell_type": "markdown",
   "metadata": {},
   "source": [
    "# 发起新信息"
   ]
  },
  {
   "cell_type": "code",
   "execution_count": null,
   "metadata": {},
   "outputs": [],
   "source": [
    "# 添加新消息\n",
    "message = client.beta.threads.messages.create(\n",
    "  thread_id=thread.id,\n",
    "  role=\"user\",\n",
    "  content=\"另外还有2支向日葵，补充下这份账单\"\n",
    ")\n",
    "# 创建run\n",
    "run = client.beta.threads.runs.create(\n",
    "  thread_id=thread.id,\n",
    "  assistant_id=assistant.id\n",
    ")\n",
    "# 获取执行结果\n",
    "run = client.beta.threads.runs.retrieve(\n",
    "  thread_id=thread.id,\n",
    "  run_id=run.id\n",
    ")\n"
   ]
  },
  {
   "cell_type": "code",
   "execution_count": null,
   "metadata": {},
   "outputs": [],
   "source": []
  },
  {
   "cell_type": "code",
   "execution_count": null,
   "metadata": {},
   "outputs": [],
   "source": []
  },
  {
   "cell_type": "code",
   "execution_count": null,
   "metadata": {},
   "outputs": [],
   "source": []
  },
  {
   "cell_type": "code",
   "execution_count": null,
   "metadata": {},
   "outputs": [],
   "source": []
  },
  {
   "cell_type": "code",
   "execution_count": null,
   "metadata": {},
   "outputs": [],
   "source": []
  }
 ],
 "metadata": {
  "kernelspec": {
   "display_name": "langchain",
   "language": "python",
   "name": "python3"
  },
  "language_info": {
   "codemirror_mode": {
    "name": "ipython",
    "version": 3
   },
   "file_extension": ".py",
   "mimetype": "text/x-python",
   "name": "python",
   "nbconvert_exporter": "python",
   "pygments_lexer": "ipython3",
   "version": "3.10.11"
  }
 },
 "nbformat": 4,
 "nbformat_minor": 2
}
