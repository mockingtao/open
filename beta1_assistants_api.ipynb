{
 "cells": [
  {
   "cell_type": "code",
   "execution_count": 1,
   "metadata": {},
   "outputs": [],
   "source": [
    "import openai\n",
    "from openai import OpenAI\n",
    "import os\n",
    "openai.api_key = os.getenv(\"OPENAI_API_KEY\")\n",
    "\n",
    "from pathlib import Path\n"
   ]
  },
  {
   "cell_type": "markdown",
   "metadata": {},
   "source": [
    "# 创建 assistant"
   ]
  },
  {
   "cell_type": "code",
   "execution_count": 16,
   "metadata": {},
   "outputs": [
    {
     "name": "stdout",
     "output_type": "stream",
     "text": [
      "Assistant(id='asst_ZxhWn9KwO6OzrX8woqTXPIaF', created_at=1699946380, description=None, file_ids=[], instructions='You are a personal math tutor. When asked a question, write and run Python code to answer the question.', metadata={}, model='gpt-3.5-turbo-1106', name='Math Tutor', object='assistant', tools=[ToolCodeInterpreter(type='code_interpreter')])\n"
     ]
    }
   ],
   "source": [
    "client = OpenAI()\n",
    "\n",
    "my_assistant = client.beta.assistants.create(\n",
    "    instructions=\"You are a personal math tutor. When asked a question, write and run Python code to answer the question.\",\n",
    "    name=\"Math Tutor\",\n",
    "    tools=[{\"type\": \"code_interpreter\"}], #  There can be a maximum of 128 tools per assistant. Tools can be of types code_interpreter, retrieval, or function.\n",
    "    model=\"gpt-3.5-turbo-1106\",\n",
    ")\n",
    "print(my_assistant)\n"
   ]
  },
  {
   "cell_type": "code",
   "execution_count": 13,
   "metadata": {},
   "outputs": [
    {
     "data": {
      "text/plain": [
       "[Model(id='text-search-babbage-doc-001', created=1651172509, object='model', owned_by='openai-dev'),\n",
       " Model(id='curie-search-query', created=1651172509, object='model', owned_by='openai-dev'),\n",
       " Model(id='gpt-3.5-turbo-16k', created=1683758102, object='model', owned_by='openai-internal'),\n",
       " Model(id='text-search-babbage-query-001', created=1651172509, object='model', owned_by='openai-dev'),\n",
       " Model(id='babbage', created=1649358449, object='model', owned_by='openai'),\n",
       " Model(id='babbage-search-query', created=1651172509, object='model', owned_by='openai-dev'),\n",
       " Model(id='text-babbage-001', created=1649364043, object='model', owned_by='openai'),\n",
       " Model(id='text-similarity-davinci-001', created=1651172505, object='model', owned_by='openai-dev'),\n",
       " Model(id='davinci-similarity', created=1651172509, object='model', owned_by='openai-dev'),\n",
       " Model(id='code-davinci-edit-001', created=1649880484, object='model', owned_by='openai'),\n",
       " Model(id='curie-similarity', created=1651172510, object='model', owned_by='openai-dev'),\n",
       " Model(id='babbage-search-document', created=1651172510, object='model', owned_by='openai-dev'),\n",
       " Model(id='curie-instruct-beta', created=1649364042, object='model', owned_by='openai'),\n",
       " Model(id='gpt-3.5-turbo', created=1677610602, object='model', owned_by='openai'),\n",
       " Model(id='gpt-3.5-turbo-1106', created=1698959748, object='model', owned_by='system'),\n",
       " Model(id='text-search-ada-doc-001', created=1651172507, object='model', owned_by='openai-dev'),\n",
       " Model(id='davinci-instruct-beta', created=1649364042, object='model', owned_by='openai'),\n",
       " Model(id='text-similarity-babbage-001', created=1651172505, object='model', owned_by='openai-dev'),\n",
       " Model(id='text-search-davinci-doc-001', created=1651172505, object='model', owned_by='openai-dev'),\n",
       " Model(id='gpt-4-0314', created=1687882410, object='model', owned_by='openai'),\n",
       " Model(id='babbage-similarity', created=1651172505, object='model', owned_by='openai-dev'),\n",
       " Model(id='text-embedding-ada-002', created=1671217299, object='model', owned_by='openai-internal'),\n",
       " Model(id='davinci-search-query', created=1651172505, object='model', owned_by='openai-dev'),\n",
       " Model(id='text-similarity-curie-001', created=1651172507, object='model', owned_by='openai-dev'),\n",
       " Model(id='gpt-4', created=1687882411, object='model', owned_by='openai'),\n",
       " Model(id='text-davinci-001', created=1649364042, object='model', owned_by='openai'),\n",
       " Model(id='text-search-davinci-query-001', created=1651172505, object='model', owned_by='openai-dev'),\n",
       " Model(id='ada-search-document', created=1651172507, object='model', owned_by='openai-dev'),\n",
       " Model(id='ada-code-search-code', created=1651172505, object='model', owned_by='openai-dev'),\n",
       " Model(id='babbage-002', created=1692634615, object='model', owned_by='system'),\n",
       " Model(id='davinci-002', created=1692634301, object='model', owned_by='system'),\n",
       " Model(id='davinci-search-document', created=1651172509, object='model', owned_by='openai-dev'),\n",
       " Model(id='curie-search-document', created=1651172508, object='model', owned_by='openai-dev'),\n",
       " Model(id='babbage-code-search-code', created=1651172509, object='model', owned_by='openai-dev'),\n",
       " Model(id='text-search-ada-query-001', created=1651172505, object='model', owned_by='openai-dev'),\n",
       " Model(id='code-search-ada-text-001', created=1651172507, object='model', owned_by='openai-dev'),\n",
       " Model(id='babbage-code-search-text', created=1651172509, object='model', owned_by='openai-dev'),\n",
       " Model(id='code-search-babbage-code-001', created=1651172507, object='model', owned_by='openai-dev'),\n",
       " Model(id='ada-search-query', created=1651172505, object='model', owned_by='openai-dev'),\n",
       " Model(id='gpt-4-1106-preview', created=1698957206, object='model', owned_by='system'),\n",
       " Model(id='ada-code-search-text', created=1651172510, object='model', owned_by='openai-dev'),\n",
       " Model(id='tts-1-hd', created=1699046015, object='model', owned_by='system'),\n",
       " Model(id='text-search-curie-query-001', created=1651172509, object='model', owned_by='openai-dev'),\n",
       " Model(id='text-davinci-002', created=1649880484, object='model', owned_by='openai'),\n",
       " Model(id='text-davinci-edit-001', created=1649809179, object='model', owned_by='openai'),\n",
       " Model(id='code-search-babbage-text-001', created=1651172507, object='model', owned_by='openai-dev'),\n",
       " Model(id='tts-1-hd-1106', created=1699053533, object='model', owned_by='system'),\n",
       " Model(id='gpt-4-vision-preview', created=1698894917, object='model', owned_by='system'),\n",
       " Model(id='gpt-3.5-turbo-instruct-0914', created=1694122472, object='model', owned_by='system'),\n",
       " Model(id='ada', created=1649357491, object='model', owned_by='openai'),\n",
       " Model(id='gpt-3.5-turbo-0613', created=1686587434, object='model', owned_by='openai'),\n",
       " Model(id='text-ada-001', created=1649364042, object='model', owned_by='openai'),\n",
       " Model(id='ada-similarity', created=1651172507, object='model', owned_by='openai-dev'),\n",
       " Model(id='code-search-ada-code-001', created=1651172507, object='model', owned_by='openai-dev'),\n",
       " Model(id='text-similarity-ada-001', created=1651172505, object='model', owned_by='openai-dev'),\n",
       " Model(id='gpt-3.5-turbo-instruct', created=1692901427, object='model', owned_by='system'),\n",
       " Model(id='gpt-4-0613', created=1686588896, object='model', owned_by='openai'),\n",
       " Model(id='gpt-3.5-turbo-16k-0613', created=1685474247, object='model', owned_by='openai'),\n",
       " Model(id='canary-whisper', created=1699656801, object='model', owned_by='system'),\n",
       " Model(id='gpt-3.5-turbo-0301', created=1677649963, object='model', owned_by='openai'),\n",
       " Model(id='whisper-1', created=1677532384, object='model', owned_by='openai-internal'),\n",
       " Model(id='text-search-curie-doc-001', created=1651172509, object='model', owned_by='openai-dev'),\n",
       " Model(id='text-davinci-003', created=1669599635, object='model', owned_by='openai-internal'),\n",
       " Model(id='text-curie-001', created=1649364043, object='model', owned_by='openai'),\n",
       " Model(id='curie', created=1649359874, object='model', owned_by='openai'),\n",
       " Model(id='canary-tts', created=1699492935, object='model', owned_by='system'),\n",
       " Model(id='tts-1', created=1681940951, object='model', owned_by='openai-internal'),\n",
       " Model(id='davinci', created=1649359874, object='model', owned_by='openai'),\n",
       " Model(id='dall-e-2', created=1698798177, object='model', owned_by='system'),\n",
       " Model(id='tts-1-1106', created=1699053241, object='model', owned_by='system'),\n",
       " Model(id='dall-e-3', created=1698785189, object='model', owned_by='system')]"
      ]
     },
     "execution_count": 13,
     "metadata": {},
     "output_type": "execute_result"
    }
   ],
   "source": [
    "# cc：忘记模型名字，可以直接这样获取到，最好能有模糊匹配功能。试了下暂时没有这个功能\n",
    "client = OpenAI()\n",
    "client.models.list().data"
   ]
  },
  {
   "cell_type": "markdown",
   "metadata": {},
   "source": [
    "# 检索 assistant "
   ]
  },
  {
   "cell_type": "code",
   "execution_count": 17,
   "metadata": {},
   "outputs": [
    {
     "name": "stdout",
     "output_type": "stream",
     "text": [
      "Assistant(id='asst_ZxhWn9KwO6OzrX8woqTXPIaF', created_at=1699946380, description=None, file_ids=[], instructions='You are a personal math tutor. When asked a question, write and run Python code to answer the question.', metadata={}, model='gpt-3.5-turbo-1106', name='Math Tutor', object='assistant', tools=[ToolCodeInterpreter(type='code_interpreter')])\n"
     ]
    }
   ],
   "source": [
    "my_assistant = client.beta.assistants.retrieve(\"asst_ZxhWn9KwO6OzrX8woqTXPIaF\")\n",
    "print(my_assistant)\n"
   ]
  },
  {
   "cell_type": "markdown",
   "metadata": {},
   "source": [
    "# 修改 assistant"
   ]
  },
  {
   "cell_type": "code",
   "execution_count": null,
   "metadata": {},
   "outputs": [],
   "source": [
    "\n",
    "my_updated_assistant = client.beta.assistants.update(\n",
    "  \"asst_abc123\",\n",
    "  instructions=\"You are an HR bot, and you have access to files to answer employee questions about company policies. Always response with info from either of the files.\",\n",
    "  name=\"HR Helper\",\n",
    "  tools=[{\"type\": \"retrieval\"}],\n",
    "  model=\"gpt-4\",\n",
    "  file_ids=[\"file-abc123\", \"file-abc456\"],\n",
    ")\n",
    "\n",
    "print(my_updated_assistant)\n",
    "\n",
    "# 这里我就不执行了"
   ]
  },
  {
   "cell_type": "markdown",
   "metadata": {},
   "source": [
    "# 删除 assistant "
   ]
  },
  {
   "cell_type": "code",
   "execution_count": null,
   "metadata": {},
   "outputs": [],
   "source": [
    "\n",
    "response = client.beta.assistants.delete(\"asst_abc123\")\n",
    "print(response)\n"
   ]
  },
  {
   "cell_type": "markdown",
   "metadata": {},
   "source": [
    "# 列举 assistants"
   ]
  },
  {
   "cell_type": "code",
   "execution_count": null,
   "metadata": {},
   "outputs": [],
   "source": [
    "\n",
    "my_assistants = client.beta.assistants.list(\n",
    "    order=\"desc\",\n",
    "    limit=\"20\",\n",
    ")\n",
    "print(my_assistants.data)\n"
   ]
  },
  {
   "cell_type": "markdown",
   "metadata": {},
   "source": [
    "# 创建 assistant file"
   ]
  },
  {
   "cell_type": "code",
   "execution_count": null,
   "metadata": {},
   "outputs": [],
   "source": [
    "assistant_file = client.beta.assistants.files.create(\n",
    "  assistant_id=\"asst_abc123\", \n",
    "  file_id=\"file-abc123\"\n",
    ")\n",
    "print(assistant_file)\n",
    "\n",
    "# cc：这个对象的目的是为了解决什么？批量创建assistant ？\n",
    "\n"
   ]
  },
  {
   "cell_type": "markdown",
   "metadata": {},
   "source": [
    "# 检索 assistant file"
   ]
  },
  {
   "cell_type": "code",
   "execution_count": null,
   "metadata": {},
   "outputs": [],
   "source": [
    "assistant_file = client.beta.assistants.files.retrieve(\n",
    "  assistant_id=\"asst_abc123\",\n",
    "  file_id=\"file-abc123\"\n",
    ")\n",
    "print(assistant_file)"
   ]
  },
  {
   "cell_type": "markdown",
   "metadata": {},
   "source": [
    "# 删除 assistant file"
   ]
  },
  {
   "cell_type": "code",
   "execution_count": null,
   "metadata": {},
   "outputs": [],
   "source": [
    "deleted_assistant_file = client.beta.assistants.files.delete(\n",
    "    assistant_id=\"asst_abc123\",\n",
    "    file_id=\"file-abc123\"\n",
    ")\n",
    "print(deleted_assistant_file)"
   ]
  },
  {
   "cell_type": "markdown",
   "metadata": {},
   "source": [
    "# 列举 assistant file"
   ]
  },
  {
   "cell_type": "code",
   "execution_count": null,
   "metadata": {},
   "outputs": [],
   "source": [
    "assistant_files = client.beta.assistants.files.list(\n",
    "  assistant_id=\"asst_abc123\"\n",
    ")\n",
    "print(assistant_files)"
   ]
  },
  {
   "cell_type": "code",
   "execution_count": null,
   "metadata": {},
   "outputs": [],
   "source": []
  },
  {
   "cell_type": "code",
   "execution_count": null,
   "metadata": {},
   "outputs": [],
   "source": []
  },
  {
   "cell_type": "code",
   "execution_count": null,
   "metadata": {},
   "outputs": [],
   "source": []
  },
  {
   "cell_type": "code",
   "execution_count": null,
   "metadata": {},
   "outputs": [],
   "source": []
  },
  {
   "cell_type": "code",
   "execution_count": null,
   "metadata": {},
   "outputs": [],
   "source": []
  }
 ],
 "metadata": {
  "kernelspec": {
   "display_name": "langchain",
   "language": "python",
   "name": "python3"
  },
  "language_info": {
   "codemirror_mode": {
    "name": "ipython",
    "version": 3
   },
   "file_extension": ".py",
   "mimetype": "text/x-python",
   "name": "python",
   "nbconvert_exporter": "python",
   "pygments_lexer": "ipython3",
   "version": "3.10.11"
  }
 },
 "nbformat": 4,
 "nbformat_minor": 2
}
